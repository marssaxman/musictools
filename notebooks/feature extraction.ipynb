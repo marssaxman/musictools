{
 "cells": [
  {
   "cell_type": "code",
   "execution_count": null,
   "metadata": {},
   "outputs": [],
   "source": [
    "# This has to go in its own cell or it screws up the defaults we'll set later\n",
    "%matplotlib inline"
   ]
  },
  {
   "cell_type": "code",
   "execution_count": null,
   "metadata": {},
   "outputs": [],
   "source": [
    "import numpy as np\n",
    "import musictoys\n",
    "import musictoys.audiofile\n",
    "import musictoys.analysis\n",
    "import musictoys.spectral\n",
    "from scrapbook import plot\n",
    "import librosa\n",
    "import librosa.feature\n",
    "import librosa.feature.spectral"
   ]
  },
  {
   "cell_type": "code",
   "execution_count": null,
   "metadata": {},
   "outputs": [],
   "source": [
    "#filedata, filerate = musictoys.audiofile.read(\"audio_files/kronfeld-dreamatic.wav\")\n",
    "#filedata, filerate = musictoys.audiofile.read(\"audio_files/jfb-back_home.wav\")\n",
    "filedata, filerate = musictoys.audiofile.read(\"audio_files/liberty_chaps-get_up_get_down.wav\")\n",
    "samples, samplerate = musictoys.analysis.normalize(filedata, filerate)"
   ]
  },
  {
   "cell_type": "code",
   "execution_count": null,
   "metadata": {},
   "outputs": [],
   "source": [
    "frame_size = 1024\n",
    "step_size = frame_size / 2\n",
    "step_rate = samplerate / step_size\n",
    "num_frames = int((len(samples) - frame_size + 1) / step_size)"
   ]
  },
  {
   "cell_type": "code",
   "execution_count": null,
   "metadata": {},
   "outputs": [],
   "source": [
    "frames = np.array([samples[i*step_size:i*step_size+frame_size] for i in np.arange(num_frames)])"
   ]
  },
  {
   "cell_type": "code",
   "execution_count": null,
   "metadata": {},
   "outputs": [],
   "source": [
    "hann = np.hanning(frame_size)\n",
    "\n",
    "spectrogram = []\n",
    "for clip in frames:\n",
    "    # weight according to the hann window and take the FFT\n",
    "    # this version does not return the symmetrical components\n",
    "    spectrum = np.fft.rfft(clip * hann)\n",
    "    # add this spectrum to the series of spectra\n",
    "    spectrogram.append(spectrum)\n",
    "\n",
    "spectrogram = np.array(spectrogram)\n",
    "# take absolute value to get magnitude\n",
    "spectrogram = np.absolute(spectrogram)\n",
    "# square to get power, normalize by the FFT window size -\n",
    "# but adjust for the fact that we threw away the mirrored bins.\n",
    "powerspectrogram = np.square(spectrogram) / (frame_size/2)\n",
    "# convert to decibels, clip noise floor\n",
    "loudnessgram = (10 * np.log10(powerspectrogram)).clip(-120)\n",
    "# compute the center frequency of each FFT bin\n",
    "nyquist_freq = samplerate / 2.0\n",
    "fft_bin_freq = np.arange(spectrogram.shape[-1]) * nyquist_freq / float(spectrogram.shape[-1])"
   ]
  },
  {
   "cell_type": "code",
   "execution_count": null,
   "metadata": {},
   "outputs": [],
   "source": [
    "plot.gram(loudnessgram, x=step_rate, y=fft_bin_freq, cmap='plasma')"
   ]
  },
  {
   "cell_type": "markdown",
   "metadata": {},
   "source": [
    "# CENTROID"
   ]
  },
  {
   "cell_type": "code",
   "execution_count": null,
   "metadata": {},
   "outputs": [],
   "source": [
    "plot.line(musictoys.spectral.centroid(spectrogram, samplerate), x=step_rate)"
   ]
  },
  {
   "cell_type": "code",
   "execution_count": null,
   "metadata": {},
   "outputs": [],
   "source": [
    "plot.line(librosa.feature.spectral_centroid(S=spectrogram.T, sr=samplerate)[0])"
   ]
  },
  {
   "cell_type": "markdown",
   "metadata": {},
   "source": [
    "# SPREAD/BANDWIDTH"
   ]
  },
  {
   "cell_type": "code",
   "execution_count": null,
   "metadata": {},
   "outputs": [],
   "source": [
    "plot.line(musictoys.spectral.spread(spectrogram, samplerate), x=step_rate)"
   ]
  },
  {
   "cell_type": "code",
   "execution_count": null,
   "metadata": {},
   "outputs": [],
   "source": [
    "plot.line(librosa.feature.spectral_bandwidth(S=spectrogram.T, sr=samplerate)[0])"
   ]
  },
  {
   "cell_type": "markdown",
   "metadata": {},
   "source": [
    "# VARIANCE"
   ]
  },
  {
   "cell_type": "code",
   "execution_count": null,
   "metadata": {},
   "outputs": [],
   "source": [
    "plot.line(musictoys.spectral.variance(spectrogram), x=step_rate)"
   ]
  },
  {
   "cell_type": "markdown",
   "metadata": {},
   "source": [
    "# CREST"
   ]
  },
  {
   "cell_type": "code",
   "execution_count": null,
   "metadata": {},
   "outputs": [],
   "source": [
    "plot.line(musictoys.spectral.crest(spectrogram), x=step_rate)"
   ]
  },
  {
   "cell_type": "markdown",
   "metadata": {},
   "source": [
    "# ENTROPY"
   ]
  },
  {
   "cell_type": "code",
   "execution_count": null,
   "metadata": {},
   "outputs": [],
   "source": [
    "plot.line(musictoys.spectral.entropy(powerspectrogram), x=step_rate)"
   ]
  },
  {
   "cell_type": "markdown",
   "metadata": {},
   "source": [
    "# FLATNESS"
   ]
  },
  {
   "cell_type": "code",
   "execution_count": null,
   "metadata": {},
   "outputs": [],
   "source": [
    "plot.line(musictoys.spectral.flatness(powerspectrogram), x=step_rate)"
   ]
  },
  {
   "cell_type": "markdown",
   "metadata": {},
   "source": [
    "# ROLLOFF"
   ]
  },
  {
   "cell_type": "code",
   "execution_count": null,
   "metadata": {},
   "outputs": [],
   "source": [
    "plot.line(musictoys.spectral.rolloff(spectrogram, samplerate, fraction=0.85))"
   ]
  },
  {
   "cell_type": "code",
   "execution_count": null,
   "metadata": {},
   "outputs": [],
   "source": [
    "plot.line(librosa.feature.spectral.spectral_rolloff(S=spectrogram.T, sr=samplerate, roll_percent=.85)[0])"
   ]
  },
  {
   "cell_type": "markdown",
   "metadata": {},
   "source": [
    "# ZERO-CROSSING RATE"
   ]
  },
  {
   "cell_type": "code",
   "execution_count": null,
   "metadata": {},
   "outputs": [],
   "source": [
    "plot.line(musictoys.analysis.zcr(frames))"
   ]
  },
  {
   "cell_type": "markdown",
   "metadata": {},
   "source": [
    "worth investigating?\n",
    "- skewness\n",
    "- kurtosis\n",
    "- slope\n",
    "- decrease\n",
    "- high-frequency content"
   ]
  }
 ],
 "metadata": {
  "kernelspec": {
   "display_name": "Python 2",
   "language": "python",
   "name": "python2"
  },
  "language_info": {
   "codemirror_mode": {
    "name": "ipython",
    "version": 2
   },
   "file_extension": ".py",
   "mimetype": "text/x-python",
   "name": "python",
   "nbconvert_exporter": "python",
   "pygments_lexer": "ipython2",
   "version": "2.7.12"
  }
 },
 "nbformat": 4,
 "nbformat_minor": 2
}
