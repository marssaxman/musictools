{
 "cells": [
  {
   "cell_type": "markdown",
   "metadata": {},
   "source": [
    "Idea: what would happen if we tried to classify music using one of the well-understood object classification networks, such as the application networks built into Keras? We would need to find some meaningful way of representing musical features in a 299x299 (or 224x224) pixel image. What rendering might work? Spectrally shaded audio waveforms include so much information it can be possible for a DJ to identify and mix in a new track without ever having listened to it. It seems plausible that a rendering designed for fine-grained style comparison might be even more informative."
   ]
  },
  {
   "cell_type": "code",
   "execution_count": null,
   "metadata": {},
   "outputs": [],
   "source": [
    "import os, os.path\n",
    "import numpy as np\n",
    "from musictoys import audiofile, analysis"
   ]
  },
  {
   "cell_type": "code",
   "execution_count": null,
   "metadata": {},
   "outputs": [],
   "source": [
    "%matplotlib inline\n",
    "import matplotlib\n",
    "import matplotlib.pyplot as plt\n",
    "plt.rcParams[\"figure.figsize\"] = (16,3)"
   ]
  },
  {
   "cell_type": "code",
   "execution_count": null,
   "metadata": {},
   "outputs": [],
   "source": [
    "audio_files = [\"jfb-back_home.wav\", \"kronfeld-dreamatic.wav\", \"liberty_chaps-get_up_get_down.wav\"]\n",
    "audio_files = [os.path.join(\"audio_files\", f) for f in audio_files]\n",
    "audio_clips = [analysis.normalize(*audiofile.read(f)) for f in audio_files]\n",
    "audio_clips = [data for data, samplerate in audio_clips if samplerate==22050]"
   ]
  },
  {
   "cell_type": "code",
   "execution_count": null,
   "metadata": {},
   "outputs": [],
   "source": [
    "clip = audio_clips[0]\n",
    "print clip.shape, clip.min(), clip.max(), clip.mean()\n"
   ]
  },
  {
   "cell_type": "code",
   "execution_count": null,
   "metadata": {},
   "outputs": [],
   "source": [
    "def plotspectrogram(spec):\n",
    "    #plt.set_cmap('afmhot')\n",
    "    plt.imshow(spec.T, interpolation='nearest', aspect='auto')\n",
    "    plt.gca().invert_yaxis()"
   ]
  },
  {
   "cell_type": "code",
   "execution_count": null,
   "metadata": {},
   "outputs": [],
   "source": [
    "def printspecrange(spec, name):\n",
    "    print \"%s range = %.3f..%.3f; mean=%.3f, stdev=%.3f\" % (name, spec.min(), spec.max(), spec.mean(), spec.std())\n"
   ]
  },
  {
   "cell_type": "code",
   "execution_count": null,
   "metadata": {},
   "outputs": [],
   "source": [
    "specgram = np.absolute(analysis.stft(clip, 2048, 1024))\n",
    "printspecrange(specgram, \"spectrogram\")\n",
    "# Convert to power spectrum.\n",
    "powerspec = np.square(specgram)\n",
    "printspecrange(powerspec, \"power spectrum\")\n",
    "# Get loudness, convert power to decibels.\n",
    "loudspec = 10.0 * np.log10(powerspec)\n",
    "printspecrange(loudspec, \"loudness (dB)\")\n",
    "# Discard everything below 120 dB and rescale to 0..1.\n",
    "levelspec = np.clip(1.0 + loudspec / 120.0, 0, 1)\n",
    "printspecrange(levelspec, \"normalized\")\n",
    "plotspectrogram(levelspec)\n"
   ]
  },
  {
   "cell_type": "code",
   "execution_count": null,
   "metadata": {},
   "outputs": [],
   "source": [
    "import librosa, librosa.display\n",
    "mfccs = librosa.feature.mfcc(y=audio_clips[0], sr=22050, n_mfcc=13)\n",
    "plotspectrogram(mfccs.T)"
   ]
  },
  {
   "cell_type": "code",
   "execution_count": null,
   "metadata": {},
   "outputs": [],
   "source": [
    "plotspectrogram(librosa.feature.mfcc(y=audio_clips[1], sr=22050, n_mfcc=13).T)"
   ]
  },
  {
   "cell_type": "code",
   "execution_count": null,
   "metadata": {},
   "outputs": [],
   "source": [
    "plotspectrogram(librosa.feature.mfcc(y=audio_clips[2], sr=22050, n_mfcc=13).T)"
   ]
  },
  {
   "cell_type": "code",
   "execution_count": null,
   "metadata": {},
   "outputs": [],
   "source": []
  }
 ],
 "metadata": {
  "kernelspec": {
   "display_name": "Python 2",
   "language": "python",
   "name": "python2"
  },
  "language_info": {
   "codemirror_mode": {
    "name": "ipython",
    "version": 2
   },
   "file_extension": ".py",
   "mimetype": "text/x-python",
   "name": "python",
   "nbconvert_exporter": "python",
   "pygments_lexer": "ipython2",
   "version": "2.7.12"
  }
 },
 "nbformat": 4,
 "nbformat_minor": 2
}
