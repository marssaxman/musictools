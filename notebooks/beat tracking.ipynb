{
 "cells": [
  {
   "cell_type": "code",
   "execution_count": null,
   "metadata": {},
   "outputs": [],
   "source": [
    "%matplotlib inline\n",
    "import matplotlib.pyplot as plt\n",
    "import numpy as np\n",
    "plt.rc('figure', figsize=(16.0, 4.0))"
   ]
  },
  {
   "cell_type": "code",
   "execution_count": null,
   "metadata": {},
   "outputs": [],
   "source": [
    "plt.plot(np.hamming(128))\n",
    "plt.plot(np.hanning(128))\n",
    "plt.plot(np.blackman(128))"
   ]
  },
  {
   "cell_type": "code",
   "execution_count": null,
   "metadata": {},
   "outputs": [],
   "source": [
    "import librosa\n",
    "signal, samplerate = librosa.load(\"/home/mars/musictoys/boat.wav\", sr=44100)\n",
    "onset_env = librosa.onset.onset_strength(signal, sr=samplerate)                      \n",
    "tempo = librosa.beat.tempo(onset_envelope=onset_env, sr=samplerate) "
   ]
  },
  {
   "cell_type": "code",
   "execution_count": null,
   "metadata": {},
   "outputs": [],
   "source": [
    "def track_onset(envelope, framerate, bpm):\n",
    "    # Given an estimated overall tempo, search the envelope for an arrangement\n",
    "    # of onset peaks which produces the best fit for a beat grid. This is from\n",
    "    # the paper \"Beat Tracking with Dynamic Programming\" by Daniel P. W. Ellis.\n",
    "    # We will return an array of estimated beat times, in seconds.\n",
    "    assert bpm > 0\n",
    "    assert framerate > 0\n",
    "    period = round(60.0 * framerate / bpm)\n",
    "\n",
    "    # Make sure the onset envelope is sane: it should have enough length that\n",
    "    # it is plausible we might find beats in it, and it should range 0..1.\n",
    "    if len(envelope) < framerate:\n",
    "        print \"bogus empty envelope is only %d items long at %.2f\" % (len(envelope), framerate)\n",
    "        return np.zeros(0, dtype=np.float)\n",
    "    onset_norm = envelope.std(ddof=1)\n",
    "    if onset_norm > 0:\n",
    "        print \"normalizing envelope with factor %.3f\" % onset_norm\n",
    "        envelope = envelope / onset_norm\n",
    "\n",
    "    # Reduce local fluctuations, smoothing the envelope with a Gaussian window\n",
    "    # spanning 1/32 of the estimated beat interval.\n",
    "    window = np.exp(-0.5 * (np.arange(-period, period+1)*32.0/period)**2)\n",
    "    #window = np.exp(-0.5 * np.linspace(-32.0, 32.0, period*2+1) ** 2)\n",
    "    local_scores = np.convolve(envelope, window, 'same')\n",
    "\n",
    "    # Use a log-gaussian cost function for distance from expected bpm.\n",
    "    tightness = 100\n",
    "    window = np.arange(-2 * period, -np.round(period / 2) + 1, dtype=np.int)\n",
    "    txwt = -tightness * (np.log(-window / period) ** 2)\n",
    "    # Are we on the first beat?\n",
    "    #!!! the Ellis paper starts with backlinks at -1, not 0?\n",
    "    backlink = np.zeros_like(local_scores, dtype=np.int)\n",
    "    total_scores = np.zeros_like(local_scores)\n",
    "    first_beat = True\n",
    "    for i, score in enumerate(local_scores):\n",
    "        # Are we reaching back before time 0?\n",
    "        z_pad = np.maximum(0, min(-window[0], len(window)))\n",
    "        # Search over all possible predecessors\n",
    "        candidates = txwt.copy()\n",
    "        candidates[z_pad:] = candidates[z_pad:] + total_scores[window[z_pad:]]\n",
    "        # Find the best preceding beat\n",
    "        beat_location = np.argmax(candidates)\n",
    "        # Add the local score\n",
    "        total_scores[i] = score + candidates[beat_location]\n",
    "        # Special case the first onset.  Stop if the local score is small\n",
    "        if first_beat and score < 0.01 * local_scores.max():\n",
    "            backlink[i] = -1\n",
    "        else:\n",
    "            backlink[i] = window[beat_location]\n",
    "            first_beat = False\n",
    "        # Update the time range\n",
    "        window = window + 1\n",
    "\n",
    "    # Get the position of the last beat. Measure the degree to which each\n",
    "    # frame is a local maximum, then pick local maxima which exceed the global\n",
    "    # median by a factor of 2, then select the last of these.\n",
    "    score_pad = np.pad(total_scores, [(1,1)], mode='edge')\n",
    "    maxes = (total_scores > score_pad[:-2]) & (total_scores >= score_pad[2:])\n",
    "    med_score = np.median(total_scores[np.argwhere(maxes)])\n",
    "    last_beat = np.argwhere((total_scores * maxes * 2 > med_score)).max()\n",
    "\n",
    "    # Reconstruct the most probable beat path from the series of backlinks,\n",
    "    # then create an array in ascending order.\n",
    "    beats = [last_beat]\n",
    "    while backlink[beats[-1]] >= 0:\n",
    "        beats.append(backlink[beats[-1]])\n",
    "    beats = np.array(beats[::-1], dtype=np.int)\n",
    "\n",
    "    # Discard low-probability beats at the beginning and end.\n",
    "    smooth_boe = np.convolve(local_scores[beats], np.hanning(5), 'same')\n",
    "    threshold = 0.5 * ((smooth_boe ** 2).mean() ** 0.5)\n",
    "    valid = np.argwhere(smooth_boe > threshold)\n",
    "    beats = beats[valid.min():valid.max()]\n",
    "\n",
    "    # Convert the beat frame indexes into timestamps.\n",
    "    return np.asarray(beats, dtype=np.float) / framerate\n"
   ]
  },
  {
   "cell_type": "code",
   "execution_count": null,
   "metadata": {},
   "outputs": [],
   "source": [
    "marsbeats = track_onset(onset_env, float(samplerate)/512.0, tempo)\n",
    "plt.plot(marsbeats)\n",
    "print marsbeats"
   ]
  },
  {
   "cell_type": "code",
   "execution_count": null,
   "metadata": {},
   "outputs": [],
   "source": [
    "import librosa.display\n",
    "times = np.linspace(0, float(len(signal)) / samplerate, len(onset_env))\n",
    "plt.plot(times, librosa.util.normalize(onset_env), label='Onset strength')\n",
    "plt.vlines(marsbeats, 0, 1, alpha=0.5, color='r', linestyle='--', label='Beats')\n",
    "plt.legend(frameon=True, framealpha=0.75)\n",
    "# Limit the plot to a 15-second window\n",
    "plt.xlim(15, 30)\n",
    "plt.gca().xaxis.set_major_formatter(librosa.display.TimeFormatter())\n",
    "plt.tight_layout()"
   ]
  },
  {
   "cell_type": "code",
   "execution_count": null,
   "metadata": {},
   "outputs": [],
   "source": []
  }
 ],
 "metadata": {
  "kernelspec": {
   "display_name": "Python 2",
   "language": "python",
   "name": "python2"
  },
  "language_info": {
   "codemirror_mode": {
    "name": "ipython",
    "version": 2
   },
   "file_extension": ".py",
   "mimetype": "text/x-python",
   "name": "python",
   "nbconvert_exporter": "python",
   "pygments_lexer": "ipython2",
   "version": "2.7.12"
  }
 },
 "nbformat": 4,
 "nbformat_minor": 2
}
