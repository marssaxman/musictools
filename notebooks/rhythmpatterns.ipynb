{
 "cells": [
  {
   "cell_type": "code",
   "execution_count": null,
   "metadata": {},
   "outputs": [],
   "source": [
    "%matplotlib inline\n",
    "%pushd\n",
    "%cd \"..\"\n",
    "from mjs import tracks\n",
    "from lib.rp_extract import rp_extract\n",
    "from lib.rp_extract import rp_plot\n",
    "from lib.rp_extract import audiofile_read\n",
    "import numpy as np\n",
    "%popd"
   ]
  },
  {
   "cell_type": "code",
   "execution_count": null,
   "metadata": {},
   "outputs": [],
   "source": [
    "samplerate, samplewidth, wavedata = audiofile_read.audiofile_read(tracks.new_rhythm)\n",
    "nsamples = wavedata.shape[0]\n",
    "nchannels = wavedata.shape[1]\n",
    "print samplerate, \"Hz,\", samplewidth*8, \"bit,\", nchannels, \"channel(s),\", nsamples, \"samples\""
   ]
  },
  {
   "cell_type": "code",
   "execution_count": null,
   "metadata": {},
   "outputs": [],
   "source": [
    "def plot_audio(samples):\n",
    "    \n",
    "    bins = 2048\n",
    "    while len(samples.shape) > 1:\n",
    "        samples = np.mean(samples, axis=1)\n",
    "    length = samples.shape[0]\n",
    "    if length > bins:\n",
    "        samples = samples[0:-(length%bins)].reshape(bins,-1)\n",
    "        samples = np.ravel(np.column_stack((samples.max(axis=1), samples.min(axis=1))))\n",
    "    rp_plot.plotmono_waveform(samples, plot_width=16, plot_height=3)\n"
   ]
  },
  {
   "cell_type": "code",
   "execution_count": null,
   "metadata": {},
   "outputs": [],
   "source": [
    "\n",
    "plot_audio(wavedata)"
   ]
  },
  {
   "cell_type": "code",
   "execution_count": null,
   "metadata": {},
   "outputs": [],
   "source": [
    "wavedata = np.mean(wavedata, axis=1)\n",
    "rp_plot.plotstft(wavedata, samplerate, binsize=512, ignore=True)"
   ]
  },
  {
   "cell_type": "code",
   "execution_count": null,
   "metadata": {},
   "outputs": [],
   "source": [
    "features = rp_extract.rp_extract(wavedata,                            # the two-channel wave-data of the audio-file\n",
    "                                samplerate,                          # the samplerate of the audio-file\n",
    "                                extract_rh           = True,\n",
    "                                 extract_rp          = True,          # <== extract this feature!\n",
    "                                extract_ssd         = True,\n",
    "                                 transform_db        = True,          # apply psycho-accoustic transformation\n",
    "                                transform_phon      = True,          # apply psycho-accoustic transformation\n",
    "                                transform_sone      = True,          # apply psycho-accoustic transformation\n",
    "                                fluctuation_strength_weighting=True, # apply psycho-accoustic transformation\n",
    "                                skip_leadin_fadeout = 1,             # skip lead-in/fade-out. value = number of segments skipped\n",
    "                                step_width          = 1)             # "
   ]
  },
  {
   "cell_type": "code",
   "execution_count": null,
   "metadata": {},
   "outputs": [],
   "source": [
    "rp_plot.plotrp(features['rp'])\n",
    "rp_plot.plotssd(features['ssd'])\n",
    "rp_plot.plotrh(features['rh'])"
   ]
  },
  {
   "cell_type": "code",
   "execution_count": null,
   "metadata": {},
   "outputs": [],
   "source": []
  },
  {
   "cell_type": "code",
   "execution_count": null,
   "metadata": {},
   "outputs": [],
   "source": []
  }
 ],
 "metadata": {
  "kernelspec": {
   "display_name": "Python 2",
   "language": "python",
   "name": "python2"
  },
  "language_info": {
   "codemirror_mode": {
    "name": "ipython",
    "version": 2
   },
   "file_extension": ".py",
   "mimetype": "text/x-python",
   "name": "python",
   "nbconvert_exporter": "python",
   "pygments_lexer": "ipython2",
   "version": "2.7.5"
  }
 },
 "nbformat": 4,
 "nbformat_minor": 2
}
