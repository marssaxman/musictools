{
 "cells": [
  {
   "cell_type": "code",
   "execution_count": null,
   "metadata": {},
   "outputs": [],
   "source": [
    "rcParams['figure.figsize'] = (16, 4) #wide graphs by default"
   ]
  },
  {
   "cell_type": "markdown",
   "metadata": {},
   "source": [
    "# Segmentation"
   ]
  },
  {
   "cell_type": "markdown",
   "metadata": {},
   "source": [
    "## Structural segmentation"
   ]
  },
  {
   "cell_type": "markdown",
   "metadata": {},
   "source": [
    "Tzanetakis, G., & Cook, P. (1999). Multifeature audio segmentation for browsing and annotation. IEEE Workshop on Applications of Signal Processing to Audio and Acoustics, 1–4. Retrieved from http://ieeexplore.ieee.org/xpls/abs_all.jsp?arnumber=810860"
   ]
  },
  {
   "cell_type": "code",
   "execution_count": null,
   "metadata": {},
   "outputs": [],
   "source": [
    "from essentia.streaming import *"
   ]
  },
  {
   "cell_type": "code",
   "execution_count": null,
   "metadata": {},
   "outputs": [],
   "source": [
    "sr = 44100\n",
    "loader = MonoLoader(filename = 'sources/Dire Straits - Walk of life.mp3', sampleRate=sr)\n",
    "frameCutter = FrameCutter(frameSize = 1024, hopSize = 512)\n",
    "w = Windowing(type = 'hann')\n",
    "spec = Spectrum()\n",
    "mfcc = MFCC()"
   ]
  },
  {
   "cell_type": "code",
   "execution_count": null,
   "metadata": {},
   "outputs": [],
   "source": [
    "loader.audio >> frameCutter.signal\n",
    "frameCutter.frame >> w.frame >> spec.frame\n",
    "spec.spectrum >> mfcc.spectrum"
   ]
  },
  {
   "cell_type": "code",
   "execution_count": null,
   "metadata": {},
   "outputs": [],
   "source": [
    "pool = essentia.Pool()\n",
    "\n",
    "mfcc.bands >> (pool, 'lowlevel.mfcc_bands')\n",
    "mfcc.mfcc >> (pool, 'lowlevel.mfcc')"
   ]
  },
  {
   "cell_type": "code",
   "execution_count": null,
   "metadata": {},
   "outputs": [],
   "source": [
    "essentia.run(loader)"
   ]
  },
  {
   "cell_type": "code",
   "execution_count": null,
   "metadata": {},
   "outputs": [],
   "source": [
    "imshow(pool['lowlevel.mfcc'].T[1:,:], aspect = 'auto', interpolation='nearest')"
   ]
  },
  {
   "cell_type": "code",
   "execution_count": null,
   "metadata": {},
   "outputs": [],
   "source": [
    "essentia.reset(loader)"
   ]
  },
  {
   "cell_type": "code",
   "execution_count": null,
   "metadata": {},
   "outputs": [],
   "source": [
    "loader.inputNames(), loader.outputNames()"
   ]
  },
  {
   "cell_type": "code",
   "execution_count": null,
   "metadata": {},
   "outputs": [],
   "source": [
    "frameCutter.inputNames(), frameCutter.outputNames()"
   ]
  },
  {
   "cell_type": "code",
   "execution_count": null,
   "metadata": {},
   "outputs": [],
   "source": [
    "frameCutter.connections"
   ]
  },
  {
   "cell_type": "code",
   "execution_count": null,
   "metadata": {},
   "outputs": [],
   "source": [
    "loader"
   ]
  },
  {
   "cell_type": "code",
   "execution_count": null,
   "metadata": {},
   "outputs": [],
   "source": [
    "loader.audio"
   ]
  },
  {
   "cell_type": "code",
   "execution_count": null,
   "metadata": {},
   "outputs": [],
   "source": [
    "frameCutter.signal"
   ]
  },
  {
   "cell_type": "code",
   "execution_count": null,
   "metadata": {},
   "outputs": [],
   "source": [
    "w"
   ]
  },
  {
   "cell_type": "code",
   "execution_count": null,
   "metadata": {},
   "outputs": [],
   "source": [
    "w.frame"
   ]
  },
  {
   "cell_type": "code",
   "execution_count": null,
   "metadata": {},
   "outputs": [],
   "source": [
    "frameCutter.frame"
   ]
  },
  {
   "cell_type": "code",
   "execution_count": null,
   "metadata": {},
   "outputs": [],
   "source": [
    "frameCutter.connections[frameCutter.frame]"
   ]
  },
  {
   "cell_type": "code",
   "execution_count": null,
   "metadata": {},
   "outputs": [],
   "source": [
    "w.frame in frameCutter.connections[frameCutter.frame]"
   ]
  },
  {
   "cell_type": "markdown",
   "metadata": {},
   "source": [
    "We can change parameters for any *algorithm* in the processing chain:"
   ]
  },
  {
   "cell_type": "code",
   "execution_count": null,
   "metadata": {},
   "outputs": [],
   "source": [
    "loader.configure(filename='sources/Bob Marley - Buffalo Soldier.mp3')"
   ]
  },
  {
   "cell_type": "code",
   "execution_count": null,
   "metadata": {},
   "outputs": [],
   "source": [
    "essentia.run(loader)"
   ]
  },
  {
   "cell_type": "code",
   "execution_count": null,
   "metadata": {},
   "outputs": [],
   "source": [
    "imshow(pool['lowlevel.mfcc'].T[1:,:], aspect = 'auto', interpolation='nearest')"
   ]
  },
  {
   "cell_type": "markdown",
   "metadata": {},
   "source": [
    "If we hadn't adjusted the loader, we would have had to call:\n",
    "\n",
    "    essentia.reset(loader)\n",
    "\n",
    "Because the file reader would be at the end of the file."
   ]
  },
  {
   "cell_type": "markdown",
   "metadata": {},
   "source": [
    "## Using essentia to calculate texture windows"
   ]
  },
  {
   "cell_type": "code",
   "execution_count": null,
   "metadata": {},
   "outputs": [],
   "source": [
    "sr = 22050\n",
    "frameSize = 1024\n",
    "hopSize = 512\n",
    "\n",
    "loader = MonoLoader(filename = 'sources/Dire Straits - Walk of life.mp3', sampleRate=sr)\n",
    "frameCutter = FrameCutter(frameSize = frameSize, hopSize = hopSize)\n",
    "w = Windowing(type = 'hann')\n",
    "spec = Spectrum()\n",
    "mfcc = MFCC()\n",
    "centroid = Centroid()\n",
    "\n",
    "pool = essentia.Pool()"
   ]
  },
  {
   "cell_type": "code",
   "execution_count": null,
   "metadata": {},
   "outputs": [],
   "source": [
    "loader.audio >> frameCutter.signal\n",
    "frameCutter.frame >> w.frame >> spec.frame\n",
    "spec.spectrum >> mfcc.spectrum\n",
    "spec.spectrum >> centroid.array\n",
    "\n",
    "mfcc.mfcc >> (pool, 'lowlevel.mfcc')\n",
    "centroid.centroid >> (pool, 'lowlevel.centroid')"
   ]
  },
  {
   "cell_type": "markdown",
   "metadata": {},
   "source": [
    "Common error: If I try this again:"
   ]
  },
  {
   "cell_type": "code",
   "execution_count": null,
   "metadata": {},
   "outputs": [],
   "source": [
    "loader.audio >> frameCutter.signal\n",
    "frameCutter.frame >> w.frame >> spec.frame\n",
    "spec.spectrum >> mfcc.spectrum\n",
    "spec.spectrum >> centroid.array\n",
    "\n",
    "mfcc.mfcc >> (pool, 'lowlevel.mfcc')\n",
    "centroid.centroid >> (pool, 'lowlevel.centroid')"
   ]
  },
  {
   "cell_type": "markdown",
   "metadata": {},
   "source": [
    "Oops... Need to clear the connections first. The easiest way is just to recreate the object (Python will do the garbage collection for you)"
   ]
  },
  {
   "cell_type": "code",
   "execution_count": null,
   "metadata": {},
   "outputs": [],
   "source": [
    "sr = 22050\n",
    "frameSize = 1024\n",
    "hopSize = 512\n",
    "\n",
    "loader = MonoLoader(filename = 'sources/Dire Straits - Walk of life.mp3', sampleRate=sr)\n",
    "frameCutter = FrameCutter(frameSize = frameSize, hopSize = hopSize)\n",
    "w = Windowing(type = 'hann')\n",
    "spec = Spectrum()\n",
    "centroid = Centroid()\n",
    "rolloff = RollOff()\n",
    "flux = Flux()\n",
    "zcr = ZeroCrossingRate()\n",
    "rms = RMS()"
   ]
  },
  {
   "cell_type": "code",
   "execution_count": null,
   "metadata": {},
   "outputs": [],
   "source": [
    "# Texture windows\n",
    "textureTime = 1.0 # seconds\n",
    "textureSize = int(textureTime * sr/float(hopSize))\n",
    "textureCutter = FrameCutter(frameSize = textureSize, hopSize = textureSize)\n",
    "\n",
    "pool = essentia.Pool()"
   ]
  },
  {
   "cell_type": "code",
   "execution_count": null,
   "metadata": {},
   "outputs": [],
   "source": [
    "loader.audio >> frameCutter.signal\n",
    "frameCutter.frame >> w.frame >> spec.frame\n",
    "spec.spectrum >> centroid.array\n",
    "spec.spectrum >> rolloff.spectrum\n",
    "spec.spectrum >> flux.spectrum\n",
    "\n",
    "frameCutter.frame >> zcr.signal\n",
    "frameCutter.frame >> rms.array\n",
    "\n",
    "centroid.centroid >> (pool, 'lowlevel.centroid')\n",
    "rolloff.rollOff >> (pool, 'lowlevel.rolloff')\n",
    "flux.flux >> (pool, 'lowlevel.flux')\n",
    "zcr.zeroCrossingRate >> (pool, 'lowlevel.zcr')\n",
    "rms.rms >> (pool, 'lowlevel.rms')"
   ]
  },
  {
   "cell_type": "code",
   "execution_count": null,
   "metadata": {},
   "outputs": [],
   "source": [
    "essentia.run(loader)"
   ]
  },
  {
   "cell_type": "code",
   "execution_count": null,
   "metadata": {},
   "outputs": [],
   "source": [
    "plot(pool['lowlevel.centroid'])"
   ]
  },
  {
   "cell_type": "code",
   "execution_count": null,
   "metadata": {},
   "outputs": [],
   "source": [
    "plot(pool['lowlevel.rms'])"
   ]
  },
  {
   "cell_type": "markdown",
   "metadata": {},
   "source": [
    "## Texture windows"
   ]
  },
  {
   "cell_type": "code",
   "execution_count": null,
   "metadata": {},
   "outputs": [],
   "source": [
    "sr = 44100\n",
    "frameSize = 1024\n",
    "hopSize = 512\n",
    "\n",
    "loader = MonoLoader(filename = 'sources/Stevie Wonder - Superstition.mp3', sampleRate=sr)\n",
    "frameCutter = FrameCutter(frameSize = frameSize, hopSize = hopSize)\n",
    "w = Windowing(type = 'hann')\n",
    "spec = Spectrum()\n",
    "centroid = Centroid()\n",
    "rolloff = RollOff()\n",
    "flux = Flux()\n",
    "zcr = ZeroCrossingRate()\n",
    "rms = RMS()"
   ]
  },
  {
   "cell_type": "code",
   "execution_count": null,
   "metadata": {},
   "outputs": [],
   "source": [
    "# Texture windows\n",
    "textureTime = 1.0 # seconds\n",
    "textureSize = int(textureTime * sr/float(hopSize))\n",
    "textureWindowCutters = []\n",
    "textureWindowMeans = []\n",
    "textureWindowVars = []\n",
    "\n",
    "for i in range(5):\n",
    "    textureWindowCutters.append(FrameCutter(frameSize = textureSize, hopSize = textureSize))\n",
    "    textureWindowMeans.append(Mean())\n",
    "    textureWindowVars.append(Variance())\n",
    "    \n",
    "pool = essentia.Pool()"
   ]
  },
  {
   "cell_type": "code",
   "execution_count": null,
   "metadata": {},
   "outputs": [],
   "source": [
    "loader.audio >> frameCutter.signal\n",
    "frameCutter.frame >> w.frame >> spec.frame\n",
    "spec.spectrum >> centroid.array\n",
    "spec.spectrum >> rolloff.spectrum\n",
    "spec.spectrum >> flux.spectrum\n",
    "\n",
    "frameCutter.frame >> zcr.signal\n",
    "frameCutter.frame >> rms.array\n",
    "\n",
    "centroid.centroid >> (pool, 'lowlevel.centroid')\n",
    "rolloff.rollOff >> (pool, 'lowlevel.rolloff')\n",
    "flux.flux >> (pool, 'lowlevel.flux')\n",
    "zcr.zeroCrossingRate >> (pool, 'lowlevel.zcr')\n",
    "rms.rms >> (pool, 'lowlevel.rms')\n"
   ]
  },
  {
   "cell_type": "markdown",
   "metadata": {},
   "source": [
    "Now the texture windows:"
   ]
  },
  {
   "cell_type": "code",
   "execution_count": null,
   "metadata": {},
   "outputs": [],
   "source": [
    "centroid.centroid >> textureWindowCutters[0].signal\n",
    "rolloff.rollOff >> textureWindowCutters[1].signal\n",
    "flux.flux >> textureWindowCutters[2].signal\n",
    "zcr.zeroCrossingRate >> textureWindowCutters[3].signal\n",
    "rms.rms >> textureWindowCutters[4].signal\n",
    "\n",
    "features = ['lowlevel.centroid', 'lowlevel.rolloff', 'lowlevel.flux', 'lowlevel.zcr', 'lowlevel.rms']\n",
    "\n",
    "for i in range(5):\n",
    "    textureWindowCutters[i].frame >> textureWindowMeans[i].array\n",
    "    textureWindowCutters[i].frame >> textureWindowVars[i].array\n",
    "    textureWindowMeans[i].mean >> (pool, '%s_mean'%features[i])\n",
    "    textureWindowVars[i].variance >> (pool, '%s_var'%features[i])"
   ]
  },
  {
   "cell_type": "code",
   "execution_count": null,
   "metadata": {},
   "outputs": [],
   "source": [
    "essentia.run(loader)"
   ]
  },
  {
   "cell_type": "code",
   "execution_count": null,
   "metadata": {},
   "outputs": [],
   "source": [
    "plot(pool['lowlevel.rms'])\n",
    "plot(pool['lowlevel.rms_mean'])"
   ]
  },
  {
   "cell_type": "code",
   "execution_count": null,
   "metadata": {},
   "outputs": [],
   "source": [
    "dur = 1 # get right duration!\n",
    "rms = pool['lowlevel.rms']\n",
    "rms_mean = pool['lowlevel.rms_mean']\n",
    "plot(linspace(0, dur, len(rms)), rms)\n",
    "plot(linspace(0, dur, len(rms_mean)), rms_mean, lw=3)"
   ]
  },
  {
   "cell_type": "code",
   "execution_count": null,
   "metadata": {},
   "outputs": [],
   "source": [
    "dur = 1\n",
    "rms = pool['lowlevel.rms']\n",
    "rms_mean = pool['lowlevel.rms_mean']\n",
    "rms_var = pool['lowlevel.rms_var']\n",
    "plot(linspace(0, dur, len(rms)), rms)\n",
    "plot(linspace(0, dur, len(rms_mean)), rms_mean, lw=3)\n",
    "twinx()\n",
    "plot(linspace(0, dur, len(rms_var)), rms_var, lw=3, color='r')"
   ]
  },
  {
   "cell_type": "code",
   "execution_count": null,
   "metadata": {},
   "outputs": [],
   "source": [
    "all_features = []\n",
    "for ft in features:\n",
    "    all_features.append(ft+'_mean')\n",
    "    all_features.append(ft+'_var')"
   ]
  },
  {
   "cell_type": "code",
   "execution_count": null,
   "metadata": {},
   "outputs": [],
   "source": [
    "feat_vectors = array( [pool[feat_vector_name] for feat_vector_name in all_features] ,dtype=float)\n",
    "feat_vectors.shape"
   ]
  },
  {
   "cell_type": "markdown",
   "metadata": {},
   "source": [
    "## Euclidean distance"
   ]
  },
  {
   "cell_type": "code",
   "execution_count": null,
   "metadata": {},
   "outputs": [],
   "source": [
    "from scipy.spatial.distance import euclidean"
   ]
  },
  {
   "cell_type": "code",
   "execution_count": null,
   "metadata": {},
   "outputs": [],
   "source": [
    "feat_vect_frame = feat_vectors[:,0]\n",
    "feat_vect_frame"
   ]
  },
  {
   "cell_type": "code",
   "execution_count": null,
   "metadata": {},
   "outputs": [],
   "source": [
    "euclidean(feat_vectors[:,0], feat_vectors[:,1])"
   ]
  },
  {
   "cell_type": "code",
   "execution_count": null,
   "metadata": {},
   "outputs": [],
   "source": [
    "euclidean(feat_vectors[:,0], feat_vectors[:,0])"
   ]
  },
  {
   "cell_type": "code",
   "execution_count": null,
   "metadata": {},
   "outputs": [],
   "source": [
    "euc_distances = []\n",
    "for i in range(feat_vectors.shape[1] - 1):\n",
    "    cdist = euclidean(feat_vectors[:,i], feat_vectors[:,i+1])\n",
    "    euc_distances.append(cdist)"
   ]
  },
  {
   "cell_type": "code",
   "execution_count": null,
   "metadata": {},
   "outputs": [],
   "source": [
    "plot(euc_distances)"
   ]
  },
  {
   "cell_type": "code",
   "execution_count": null,
   "metadata": {},
   "outputs": [],
   "source": [
    "plot(diff(euc_distances))"
   ]
  },
  {
   "cell_type": "code",
   "execution_count": null,
   "metadata": {},
   "outputs": [],
   "source": [
    "diff_euc = diff(euc_distances)\n",
    "euc_peaks = argwhere(diff_euc>0.2e7)\n",
    "\n",
    "plot(diff_euc)\n",
    "plot(euc_peaks, diff_euc[euc_peaks], 'o')"
   ]
  },
  {
   "cell_type": "code",
   "execution_count": null,
   "metadata": {},
   "outputs": [],
   "source": [
    "rms = pool['lowlevel.rms']\n",
    "dur = (hopSize*len(rms))/float(sr)\n",
    "plot(linspace(0, dur, len(rms)), rms)\n",
    "vlines(euc_peaks[:,0], -0.05, 0.3)\n",
    "\n",
    "for peak in euc_peaks[:,0]:\n",
    "    text(peak, 0.31, '%.1f'%peak)"
   ]
  },
  {
   "cell_type": "markdown",
   "metadata": {},
   "source": [
    "## Cosine distance "
   ]
  },
  {
   "cell_type": "markdown",
   "metadata": {},
   "source": [
    "http://en.wikipedia.org/wiki/Cosine_distance\n",
    "\n",
    "Measures similarity in orientation (multidimensional) but not in magnitude"
   ]
  },
  {
   "cell_type": "code",
   "execution_count": null,
   "metadata": {},
   "outputs": [],
   "source": [
    "from scipy.spatial.distance import cosine"
   ]
  },
  {
   "cell_type": "code",
   "execution_count": null,
   "metadata": {},
   "outputs": [],
   "source": [
    "cosine(feat_vectors[:,0], feat_vectors[:,1])"
   ]
  },
  {
   "cell_type": "code",
   "execution_count": null,
   "metadata": {},
   "outputs": [],
   "source": [
    "cosine(feat_vectors[:,0], feat_vectors[:,0])"
   ]
  },
  {
   "cell_type": "code",
   "execution_count": null,
   "metadata": {},
   "outputs": [],
   "source": [
    "cos_distances = []\n",
    "for i in range(feat_vectors.shape[1] - 1):\n",
    "    cdist = cosine(feat_vectors[:,i], feat_vectors[:,i+1])\n",
    "    cos_distances.append(cdist)\n",
    "    "
   ]
  },
  {
   "cell_type": "code",
   "execution_count": null,
   "metadata": {},
   "outputs": [],
   "source": [
    "plot(cos_distances)"
   ]
  },
  {
   "cell_type": "code",
   "execution_count": null,
   "metadata": {},
   "outputs": [],
   "source": [
    "plot(diff(cos_distances))"
   ]
  },
  {
   "cell_type": "code",
   "execution_count": null,
   "metadata": {},
   "outputs": [],
   "source": [
    "diff_cos = diff(cos_distances)\n",
    "cos_peaks = argwhere(diff_cos>0.000008)\n",
    "\n",
    "plot(diff_cos)\n",
    "plot(cos_peaks, diff_cos[cos_peaks], 'o')"
   ]
  },
  {
   "cell_type": "code",
   "execution_count": null,
   "metadata": {},
   "outputs": [],
   "source": [
    "cos_peaks"
   ]
  },
  {
   "cell_type": "code",
   "execution_count": null,
   "metadata": {},
   "outputs": [],
   "source": [
    "rms = pool['lowlevel.rms']\n",
    "dur = (hopSize*len(rms))/float(sr)\n",
    "plot(linspace(0, dur, len(rms)), rms)\n",
    "vlines(cos_peaks[:,0], -0.05, 0.3)\n",
    "\n",
    "for peak in cos_peaks[:,0]:\n",
    "    text(peak, 0.31, '%.1f'%peak)"
   ]
  },
  {
   "cell_type": "code",
   "execution_count": null,
   "metadata": {},
   "outputs": [],
   "source": [
    "dur"
   ]
  },
  {
   "cell_type": "markdown",
   "metadata": {},
   "source": [
    "## Mahalanobis distance"
   ]
  },
  {
   "cell_type": "markdown",
   "metadata": {},
   "source": [
    "http://en.wikipedia.org/wiki/Mahalanobis_distance"
   ]
  },
  {
   "cell_type": "code",
   "execution_count": null,
   "metadata": {},
   "outputs": [],
   "source": [
    "from scipy.spatial.distance import mahalanobis"
   ]
  },
  {
   "cell_type": "markdown",
   "metadata": {},
   "source": [
    "10 feature vectors per analysis frame:"
   ]
  },
  {
   "cell_type": "code",
   "execution_count": null,
   "metadata": {},
   "outputs": [],
   "source": [
    "feat_vectors[:,1].reshape(10,1)"
   ]
  },
  {
   "cell_type": "code",
   "execution_count": null,
   "metadata": {},
   "outputs": [],
   "source": [
    "covmat = cov(feat_vectors)\n",
    "covmat"
   ]
  },
  {
   "cell_type": "code",
   "execution_count": null,
   "metadata": {},
   "outputs": [],
   "source": [
    "invcov = inv(covmat)\n",
    "invcov"
   ]
  },
  {
   "cell_type": "code",
   "execution_count": null,
   "metadata": {},
   "outputs": [],
   "source": [
    "mahalanobis(feat_vectors.T[0].T, feat_vectors.T[1], invcov)"
   ]
  },
  {
   "cell_type": "code",
   "execution_count": null,
   "metadata": {},
   "outputs": [],
   "source": [
    "mahalanobis(feat_vectors.T[0].T, feat_vectors.T[0], invcov)"
   ]
  },
  {
   "cell_type": "code",
   "execution_count": null,
   "metadata": {},
   "outputs": [],
   "source": [
    "mah_distances = []\n",
    "for i in range(feat_vectors.shape[1] - 1):\n",
    "    cdist = mahalanobis(feat_vectors[:,i], feat_vectors[:,i+1], invcov)\n",
    "    mah_distances.append(cdist)\n",
    "    "
   ]
  },
  {
   "cell_type": "code",
   "execution_count": null,
   "metadata": {},
   "outputs": [],
   "source": [
    "plot(mah_distances)"
   ]
  },
  {
   "cell_type": "code",
   "execution_count": null,
   "metadata": {},
   "outputs": [],
   "source": [
    "diff_mah = diff(mah_distances)\n",
    "mah_peaks = argwhere(diff_mah>2.5)\n",
    "\n",
    "plot(diff_mah)\n",
    "plot(mah_peaks, diff_mah[mah_peaks], 'o')"
   ]
  },
  {
   "cell_type": "code",
   "execution_count": null,
   "metadata": {},
   "outputs": [],
   "source": [
    "rms = pool['lowlevel.rms']\n",
    "dur = (hopSize*len(rms))/float(sr)\n",
    "plot(linspace(0, dur, len(rms)), rms)\n",
    "vlines(mah_peaks[:,0], -0.05, 0.3)\n",
    "\n",
    "for peak in mah_peaks[:,0]:\n",
    "    text(peak, 0.31, '%.1f'%peak)"
   ]
  },
  {
   "cell_type": "markdown",
   "metadata": {},
   "source": [
    "Now all results:"
   ]
  },
  {
   "cell_type": "code",
   "execution_count": null,
   "metadata": {},
   "outputs": [],
   "source": [
    "rms = pool['lowlevel.rms']\n",
    "dur = (hopSize*len(rms))/float(sr)\n",
    "plot(linspace(0, dur, len(rms)), rms, alpha=0.2)\n",
    "\n",
    "vlines(mah_peaks[:,0], -0.05, 0.25, 'r', lw=3)\n",
    "for peak in mah_peaks[:,0]:\n",
    "    text(peak, 0.26, '%.1f'%peak, color='red')\n",
    "    \n",
    "\n",
    "vlines(cos_peaks[:,0], -0.05, 0.3, 'g', lw=3)\n",
    "for peak in cos_peaks[:,0]:\n",
    "    text(peak, 0.31, '%.1f'%peak, color='g')\n",
    "    \n",
    "vlines(euc_peaks[:,0], -0.05, 0.3, 'b', lw=3)\n",
    "for peak in euc_peaks[:,0]:\n",
    "    text(peak, 0.35, '%.1f'%peak, color='g')"
   ]
  },
  {
   "cell_type": "markdown",
   "metadata": {},
   "source": [
    "There are may other ways of calculating vector distance:\n",
    "\n",
    "http://docs.scipy.org/doc/scipy/reference/spatial.distance.html\n",
    "\n",
    "http://scikit-learn.org/stable/modules/classes.html#module-sklearn.metrics.pairwise\n",
    "\n",
    "How can this segmentation metric be improved?\n",
    "\n",
    "*Hint: How does this relate to the self-similarity matrix?*"
   ]
  },
  {
   "cell_type": "markdown",
   "metadata": {},
   "source": [
    "## Event segmentation"
   ]
  },
  {
   "cell_type": "code",
   "execution_count": null,
   "metadata": {},
   "outputs": [],
   "source": [
    "sr = 44100\n",
    "loader = MonoLoader(filename = 'sources/superstition.wav', sampleRate=sr)"
   ]
  },
  {
   "cell_type": "code",
   "execution_count": null,
   "metadata": {},
   "outputs": [],
   "source": [
    "loader.audio"
   ]
  },
  {
   "cell_type": "code",
   "execution_count": null,
   "metadata": {},
   "outputs": [],
   "source": [
    "pool = essentia.Pool()"
   ]
  },
  {
   "cell_type": "code",
   "execution_count": null,
   "metadata": {},
   "outputs": [],
   "source": [
    "loader.audio >> (pool, \"samples\")"
   ]
  },
  {
   "cell_type": "code",
   "execution_count": null,
   "metadata": {},
   "outputs": [],
   "source": [
    "essentia.run(loader)"
   ]
  },
  {
   "cell_type": "code",
   "execution_count": null,
   "metadata": {},
   "outputs": [],
   "source": [
    "plot(pool['samples']);"
   ]
  },
  {
   "cell_type": "code",
   "execution_count": null,
   "metadata": {},
   "outputs": [],
   "source": [
    "rhythmext = RhythmExtractor2013()\n",
    "loader.audio >> rhythmext.signal\n",
    "rhythmext.ticks >> (pool, 'rhythm.ticks')\n",
    "rhythmext.bpm >> (pool, 'rhythm.bpm')\n",
    "rhythmext.confidence >> (pool, 'rhythm.confidence')\n",
    "rhythmext.estimates >> (pool, 'rhythm.estimates')\n",
    "rhythmext.bpmIntervals >> (pool, 'rhythm.bpmIntervals')"
   ]
  },
  {
   "cell_type": "code",
   "execution_count": null,
   "metadata": {},
   "outputs": [],
   "source": [
    "essentia.reset(loader)\n",
    "pool.clear()"
   ]
  },
  {
   "cell_type": "code",
   "execution_count": null,
   "metadata": {},
   "outputs": [],
   "source": [
    "essentia.run(loader)"
   ]
  },
  {
   "cell_type": "code",
   "execution_count": null,
   "metadata": {},
   "outputs": [],
   "source": [
    "pool['rhythm.ticks']"
   ]
  },
  {
   "cell_type": "code",
   "execution_count": null,
   "metadata": {},
   "outputs": [],
   "source": [
    "pool['rhythm.bpm']"
   ]
  },
  {
   "cell_type": "code",
   "execution_count": null,
   "metadata": {},
   "outputs": [],
   "source": [
    "dur = len(pool['samples'].flat)/float(sr)\n",
    "plot(linspace(0, dur, len(pool['samples'].flat)), pool['samples'].flat);\n",
    "\n",
    "plot(pool['rhythm.ticks'], zeros_like(pool['rhythm.ticks']), 'o')"
   ]
  },
  {
   "cell_type": "code",
   "execution_count": null,
   "metadata": {},
   "outputs": [],
   "source": [
    "frameSize = 1024\n",
    "hopSize = 256\n",
    "spec = Spectrum()\n",
    "onsetdetect = OnsetDetection(method='flux')\n",
    "frameCutter = FrameCutter(frameSize = frameSize, hopSize = hopSize)\n",
    "w = Windowing(type = 'hann')"
   ]
  },
  {
   "cell_type": "code",
   "execution_count": null,
   "metadata": {},
   "outputs": [],
   "source": [
    "loader.audio >> frameCutter.signal\n",
    "frameCutter.frame >> w.frame >> spec.frame\n",
    "spec.spectrum >> onsetdetect.spectrum\n",
    "spec.spectrum >> onsetdetect.phase\n",
    "onsetdetect.onsetDetection >> (pool, 'onsetDetection')"
   ]
  },
  {
   "cell_type": "code",
   "execution_count": null,
   "metadata": {},
   "outputs": [],
   "source": [
    "essentia.reset(loader)\n",
    "pool.clear()\n",
    "essentia.run(loader)"
   ]
  },
  {
   "cell_type": "code",
   "execution_count": null,
   "metadata": {},
   "outputs": [],
   "source": [
    "plot(pool['onsetDetection'])"
   ]
  },
  {
   "cell_type": "code",
   "execution_count": null,
   "metadata": {},
   "outputs": [],
   "source": [
    "diff_onsets = diff(pool['onsetDetection'])\n",
    "plot(diff_onsets)"
   ]
  },
  {
   "cell_type": "code",
   "execution_count": null,
   "metadata": {},
   "outputs": [],
   "source": [
    "onsets = argwhere(diff_onsets > 0.1)\n",
    "plot(diff_onsets)\n",
    "plot(onsets, zeros_like(onsets), 'o')"
   ]
  },
  {
   "cell_type": "markdown",
   "metadata": {},
   "source": [
    "TODO:\n",
    "\n",
    "* Filter out onsets that are too close\n",
    "* Then segment and find similarity between each slice"
   ]
  },
  {
   "cell_type": "markdown",
   "metadata": {},
   "source": [
    "More todo:\n",
    "\n",
    "* Use checkerboard kernel with self-similarity matrix\n",
    "\n",
    "Foote, J. (2000). Automatic audio segmentation using a measure of audio novelty. Multimedia and Expo, 2000. ICME 2000. 2000 IEEE …, 1, 452–455. Retrieved from http://ieeexplore.ieee.org/xpls/abs_all.jsp?arnumber=869637"
   ]
  },
  {
   "cell_type": "code",
   "execution_count": null,
   "metadata": {},
   "outputs": [],
   "source": [
    "from scipy.ndimage.filters import gaussian_filter\n",
    "kernel = zeros((65, 65))\n",
    "kernel[32,32] = 1\n",
    "kernel = gaussian_filter(kernel, 16)"
   ]
  },
  {
   "cell_type": "code",
   "execution_count": null,
   "metadata": {},
   "outputs": [],
   "source": [
    "from mpl_toolkits.mplot3d import Axes3D\n",
    "\n",
    "fig = figure()\n",
    "ax = Axes3D(fig)\n",
    "X = arange(65)\n",
    "Y = arange(65)\n",
    "X, Y = meshgrid(X, Y)\n",
    "\n",
    "ax.plot_surface(X, Y, kernel, rstride=1, cstride=1, cmap=cm.hot)"
   ]
  },
  {
   "cell_type": "code",
   "execution_count": null,
   "metadata": {},
   "outputs": [],
   "source": [
    "checkerboard = array(r_[ones(33), -ones(32)])\n",
    "\n",
    "for i in range(32):\n",
    "    checkerboard = column_stack((checkerboard, r_[ones(33), -ones(32)]))\n",
    "    \n",
    "for i in range(32):\n",
    "    checkerboard = column_stack((checkerboard, r_[-ones(32), ones(33)]))"
   ]
  },
  {
   "cell_type": "code",
   "execution_count": null,
   "metadata": {},
   "outputs": [],
   "source": [
    "kernel*checkerboard"
   ]
  },
  {
   "cell_type": "code",
   "execution_count": null,
   "metadata": {},
   "outputs": [],
   "source": [
    "fig = figure()\n",
    "ax = Axes3D(fig)\n",
    "X = arange(65)\n",
    "Y = arange(65)\n",
    "X, Y = meshgrid(X, Y)\n",
    "\n",
    "ax.plot_surface(X, Y, kernel*checkerboard, rstride=1, cstride=1, cmap=cm.hot)"
   ]
  },
  {
   "cell_type": "markdown",
   "metadata": {},
   "source": [
    "By: Andrés Cabrera mantaraya36@gmail.com\n",
    "\n",
    "For Course MAT 240E at UCSB\n",
    "\n",
    "This ipython notebook is licensed under the CC-BY-NC-SA license: http://creativecommons.org/licenses/by-nc-sa/4.0/\n",
    "\n",
    "![http://i.creativecommons.org/l/by-nc-sa/3.0/88x31.png](http://i.creativecommons.org/l/by-nc-sa/3.0/88x31.png)"
   ]
  }
 ],
 "metadata": {
  "kernelspec": {
   "display_name": "Python 2",
   "language": "python",
   "name": "python2"
  },
  "language_info": {
   "codemirror_mode": {
    "name": "ipython",
    "version": 2
   },
   "file_extension": ".py",
   "mimetype": "text/x-python",
   "name": "python",
   "nbconvert_exporter": "python",
   "pygments_lexer": "ipython2",
   "version": "2.7.12"
  }
 },
 "nbformat": 4,
 "nbformat_minor": 1
}
