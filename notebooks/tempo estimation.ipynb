{
 "cells": [
  {
   "cell_type": "code",
   "execution_count": null,
   "metadata": {},
   "outputs": [],
   "source": [
    "from scipy.io import wavfile"
   ]
  },
  {
   "cell_type": "code",
   "execution_count": null,
   "metadata": {},
   "outputs": [],
   "source": [
    "rcParams['figure.figsize'] = (16, 4) #wide graphs by default"
   ]
  },
  {
   "cell_type": "code",
   "execution_count": null,
   "metadata": {},
   "outputs": [],
   "source": [
    "import essentia.standard\n",
    "\n",
    "loader = essentia.standard.MonoLoader(filename = 'sources/Stevie Wonder - Superstition.mp3')\n",
    "superstition = loader()\n",
    "superstition_sr = 44100"
   ]
  },
  {
   "cell_type": "markdown",
   "metadata": {},
   "source": [
    "# Tempo estimation"
   ]
  },
  {
   "cell_type": "code",
   "execution_count": null,
   "metadata": {},
   "outputs": [],
   "source": [
    "def windowed_rms(input_sig, win_size, hop=None, sr=1.0):\n",
    "    if not hop:\n",
    "        hop = winsize/2\n",
    "    rms = []\n",
    "    window_start = arange(0, len(input_sig), hop)\n",
    "    \n",
    "    for start in window_start:\n",
    "        w = input_sig[start: start+win_size].astype(float)\n",
    "        rms_inst = sqrt(mean(w**2))\n",
    "        rms.append(rms_inst)\n",
    "    times = (window_start + win_size/2)/float(sr)\n",
    "    return times, rms"
   ]
  },
  {
   "cell_type": "code",
   "execution_count": null,
   "metadata": {},
   "outputs": [],
   "source": [
    "times, super_rms = windowed_rms(superstition[:441000], 4096, 512, 44100)\n",
    "plot(times, super_rms)"
   ]
  },
  {
   "cell_type": "code",
   "execution_count": null,
   "metadata": {},
   "outputs": [],
   "source": [
    "lags, cc, lines, line = acorr(super_rms, maxlags=600)\n",
    "grid();"
   ]
  },
  {
   "cell_type": "code",
   "execution_count": null,
   "metadata": {},
   "outputs": [],
   "source": [
    "argmax(cc[625:]) + 625"
   ]
  },
  {
   "cell_type": "code",
   "execution_count": null,
   "metadata": {},
   "outputs": [],
   "source": [
    "lags[argmax(cc[625:]) + 625]"
   ]
  },
  {
   "cell_type": "code",
   "execution_count": null,
   "metadata": {},
   "outputs": [],
   "source": [
    "44100.0/53"
   ]
  },
  {
   "cell_type": "code",
   "execution_count": null,
   "metadata": {},
   "outputs": [],
   "source": [
    "times[53]"
   ]
  },
  {
   "cell_type": "code",
   "execution_count": null,
   "metadata": {},
   "outputs": [],
   "source": [
    "1.0/times[53]"
   ]
  },
  {
   "cell_type": "code",
   "execution_count": null,
   "metadata": {},
   "outputs": [],
   "source": [
    "bpm = 60.0/times[53]\n",
    "print bpm"
   ]
  },
  {
   "cell_type": "markdown",
   "metadata": {},
   "source": [
    "$$Cepstrum =\\Big|\\mathcal{F}^{-1}\\Big[\\mbox{log}\\big(\\big|\\mathcal{F}[ f(t) ]\\big|^2\\big)\\Big]\\Big|^2$$"
   ]
  },
  {
   "cell_type": "code",
   "execution_count": null,
   "metadata": {},
   "outputs": [],
   "source": [
    "cepstrum = real(fft.rfft(log10(cc[600:])))\n",
    "plot(cepstrum)"
   ]
  },
  {
   "cell_type": "code",
   "execution_count": null,
   "metadata": {},
   "outputs": [],
   "source": [
    "cepstrum = real(fft.rfft(log10(cc[600:]), n=4096))\n",
    "plot(cepstrum)"
   ]
  },
  {
   "cell_type": "code",
   "execution_count": null,
   "metadata": {},
   "outputs": [],
   "source": [
    "plot(cepstrum)\n",
    "ylim((-120, 120))\n",
    "grid()"
   ]
  },
  {
   "cell_type": "code",
   "execution_count": null,
   "metadata": {},
   "outputs": [],
   "source": [
    "argmax(cepstrum[50:]) + 50"
   ]
  },
  {
   "cell_type": "code",
   "execution_count": null,
   "metadata": {},
   "outputs": [],
   "source": [
    "4096/77"
   ]
  },
  {
   "cell_type": "code",
   "execution_count": null,
   "metadata": {},
   "outputs": [],
   "source": [
    "bpm = 60.0/times[53]\n",
    "print bpm"
   ]
  },
  {
   "cell_type": "code",
   "execution_count": null,
   "metadata": {},
   "outputs": [],
   "source": [
    "def windowed_acorr(input_sig, win_size, hop=None, sr=1.0, maxlags=None):\n",
    "    if not hop:\n",
    "        hop = win_size/2\n",
    "    if not maxlags:\n",
    "        maxlags = win_size/4\n",
    "    window_start = arange(0, len(input_sig) - win_size, hop)\n",
    "    acorrfs = []\n",
    "    for start in window_start:\n",
    "        w = input_sig[start: start+win_size]\n",
    "        lags, acorr_inst, lines, line = acorr(w, maxlags=maxlags)\n",
    "        acorrfs.append(acorr_inst)\n",
    "        \n",
    "    times = (window_start + win_size/2)/float(sr)\n",
    "    clf()\n",
    "    return times, lags, acorrfs"
   ]
  },
  {
   "cell_type": "code",
   "execution_count": null,
   "metadata": {},
   "outputs": [],
   "source": [
    "times, super_rms = windowed_rms(superstition, 4096, 512, 44100)"
   ]
  },
  {
   "cell_type": "code",
   "execution_count": null,
   "metadata": {},
   "outputs": [],
   "source": [
    "plot(times,super_rms)"
   ]
  },
  {
   "cell_type": "code",
   "execution_count": null,
   "metadata": {},
   "outputs": [],
   "source": [
    "lags, cc, lines, line = acorr(super_rms, maxlags=600, usevlines=False)"
   ]
  },
  {
   "cell_type": "code",
   "execution_count": null,
   "metadata": {},
   "outputs": [],
   "source": [
    "argmax(cc[610:]) + 610"
   ]
  },
  {
   "cell_type": "code",
   "execution_count": null,
   "metadata": {},
   "outputs": [],
   "source": [
    "lags[argmax(cc[610:]) + 610]"
   ]
  },
  {
   "cell_type": "code",
   "execution_count": null,
   "metadata": {},
   "outputs": [],
   "source": [
    "offset = 610\n",
    "bpm = 60.0/times[lags[argmax(cc[offset:]) + offset]]\n",
    "print bpm"
   ]
  },
  {
   "cell_type": "code",
   "execution_count": null,
   "metadata": {},
   "outputs": [],
   "source": [
    "win_time = 10.0 # seconds\n",
    "rms_win_freq = 44100.0/512\n",
    "win_size = int (win_time * rms_win_freq)"
   ]
  },
  {
   "cell_type": "code",
   "execution_count": null,
   "metadata": {},
   "outputs": [],
   "source": [
    "win_size"
   ]
  },
  {
   "cell_type": "code",
   "execution_count": null,
   "metadata": {},
   "outputs": [],
   "source": [
    "times_rms, lags_rms, acorrs = windowed_acorr(super_rms, win_size, int(win_size/2), sr=44100, maxlags=600)"
   ]
  },
  {
   "cell_type": "code",
   "execution_count": null,
   "metadata": {},
   "outputs": [],
   "source": [
    "imshow(array(acorrs).T, aspect='auto')\n",
    "colorbar()"
   ]
  },
  {
   "cell_type": "code",
   "execution_count": null,
   "metadata": {},
   "outputs": [],
   "source": [
    "imshow(array(acorrs).T**2, aspect='auto')\n",
    "colorbar()"
   ]
  },
  {
   "cell_type": "code",
   "execution_count": null,
   "metadata": {},
   "outputs": [],
   "source": [
    "acorrs_sub = array(acorrs)[:,:580]\n",
    "imshow(acorrs_sub.T, aspect='auto')\n",
    "acorrs_sub.shape\n",
    "plot(argmax(array(acorrs)[:,:580], axis=1), color='w', lw=3)"
   ]
  },
  {
   "cell_type": "code",
   "execution_count": null,
   "metadata": {},
   "outputs": [],
   "source": [
    "offset = 30\n",
    "maxlags = 600\n",
    "acorrs_sub = array(acorrs)[:,:maxlags-offset]\n",
    "imshow(acorrs_sub.T, aspect='auto')\n",
    "acorrs_sub.shape\n",
    "plot(argmax(array(acorrs)[:,:maxlags-offset], axis=1), color='w', lw=3)"
   ]
  },
  {
   "cell_type": "code",
   "execution_count": null,
   "metadata": {},
   "outputs": [],
   "source": [
    "plot(array(acorrs)[25])\n",
    "ylim((0.8, 1))"
   ]
  },
  {
   "cell_type": "code",
   "execution_count": null,
   "metadata": {},
   "outputs": [],
   "source": [
    "tempobpm = argmax(array(acorrs)[:,:maxlags-offset], axis=1)\n",
    "plot(60.0/times[abs(lags_rms[tempobpm])])"
   ]
  },
  {
   "cell_type": "code",
   "execution_count": null,
   "metadata": {},
   "outputs": [],
   "source": [
    "plot(60.0/times[abs(lags_rms[tempobpm])], 'x-')\n",
    "ylim((80, 100))"
   ]
  },
  {
   "cell_type": "code",
   "execution_count": null,
   "metadata": {},
   "outputs": [],
   "source": [
    "loader = essentia.standard.MonoLoader(filename = 'sources/Led Zeppelin - Rock And Roll.mp3')\n",
    "rockroll = loader()\n",
    "rockroll_sr = 44100\n",
    "rms_hop = 512\n",
    "rms_winsize = 4096\n",
    "\n",
    "times, rock_rms = windowed_rms(rockroll, rms_winsize, rms_hop, rockroll_sr)\n",
    "plot(times[:2500], rock_rms[:2500])"
   ]
  },
  {
   "cell_type": "code",
   "execution_count": null,
   "metadata": {},
   "outputs": [],
   "source": [
    "maxlags = 600\n",
    "lags, cc, lines, line = acorr(rock_rms, maxlags=maxlags)\n",
    "ylim((0.9, 1.0))"
   ]
  },
  {
   "cell_type": "code",
   "execution_count": null,
   "metadata": {},
   "outputs": [],
   "source": [
    "offset = 30\n",
    "bpm = 60.0/times[lags[argmax(cc[maxlags + offset:]) + maxlags + offset]]\n",
    "print bpm"
   ]
  },
  {
   "cell_type": "code",
   "execution_count": null,
   "metadata": {},
   "outputs": [],
   "source": [
    "win_time = 10.0 # seconds\n",
    "rms_win_freq = float(rockroll_sr)/rms_hop\n",
    "win_size = int (win_time * rms_win_freq)\n",
    "\n",
    "times_rms, lags_rms, acorrs = windowed_acorr(rock_rms, win_size, int(win_size/2), sr=44100, maxlags=maxlags)\n"
   ]
  },
  {
   "cell_type": "code",
   "execution_count": null,
   "metadata": {},
   "outputs": [],
   "source": [
    "offset = 30\n",
    "acorrs_sub = array(acorrs)[:,:maxlags]\n",
    "imshow(acorrs_sub.T, aspect='auto', interpolation='nearest')\n",
    "acorrs_sub.shape\n",
    "plot(argmax(array(acorrs)[:,:maxlags-offset], axis=1), color='w', lw=3)"
   ]
  },
  {
   "cell_type": "code",
   "execution_count": null,
   "metadata": {},
   "outputs": [],
   "source": [
    "tempobpm = argmax(array(acorrs)[:,:maxlags-offset], axis=1)\n",
    "plot(60.0/times[abs(lags_rms[tempobpm])])"
   ]
  },
  {
   "cell_type": "code",
   "execution_count": null,
   "metadata": {},
   "outputs": [],
   "source": [
    "loader = essentia.standard.MonoLoader(filename = 'sources/Isaac Hayes - Out Of The Ghetto.mp3')\n",
    "rockroll = loader()\n",
    "rockroll_sr = 44100\n",
    "rms_hop = 512\n",
    "rms_winsize = 4096\n",
    "\n",
    "times, rock_rms = windowed_rms(rockroll, rms_winsize, rms_hop, rockroll_sr)\n",
    "plot(times[:2500], rock_rms[:2500])"
   ]
  },
  {
   "cell_type": "code",
   "execution_count": null,
   "metadata": {},
   "outputs": [],
   "source": [
    "maxlags = 200\n",
    "lags, cc, lines, line = acorr(rock_rms, maxlags=maxlags)\n",
    "ylim((0.7, 1.0))"
   ]
  },
  {
   "cell_type": "code",
   "execution_count": null,
   "metadata": {},
   "outputs": [],
   "source": [
    "offset = 30\n",
    "bpm = 60.0/times[lags[argmax(cc[maxlags + offset:]) + maxlags + offset]]\n",
    "print bpm"
   ]
  },
  {
   "cell_type": "code",
   "execution_count": null,
   "metadata": {},
   "outputs": [],
   "source": [
    "win_time = 10.0 # seconds\n",
    "rms_win_freq = float(rockroll_sr)/rms_hop\n",
    "win_size = int (win_time * rms_win_freq)\n",
    "\n",
    "times_rms, lags_rms, acorrs = windowed_acorr(rock_rms, win_size, int(win_size/2), sr=44100, maxlags=maxlags)"
   ]
  },
  {
   "cell_type": "code",
   "execution_count": null,
   "metadata": {},
   "outputs": [],
   "source": [
    "offset = 30\n",
    "acorrs_sub = array(acorrs)[:,:maxlags]\n",
    "imshow(acorrs_sub.T, aspect='auto', interpolation='nearest')\n",
    "acorrs_sub.shape\n",
    "plot(argmax(array(acorrs)[:,:maxlags-offset], axis=1), color='w', lw=3)"
   ]
  },
  {
   "cell_type": "code",
   "execution_count": null,
   "metadata": {},
   "outputs": [],
   "source": [
    "tempobpm = argmax(array(acorrs)[:,:maxlags-offset], axis=1)\n",
    "plot(60.0/times[abs(lags_rms[tempobpm])])\n",
    "ylim((110, 125))"
   ]
  },
  {
   "cell_type": "markdown",
   "metadata": {},
   "source": [
    "How can we give better resolution to the BPM detector?"
   ]
  },
  {
   "cell_type": "markdown",
   "metadata": {},
   "source": [
    "By Andrés Cabrera mantaraya36@gmail.com\n",
    "\n",
    "For course MAT 240E at UCSB\n",
    "\n",
    "This ipython notebook is licensed under the CC-BY-NC-SA license: http://creativecommons.org/licenses/by-nc-sa/4.0/\n",
    "\n",
    "![http://i.creativecommons.org/l/by-nc-sa/3.0/88x31.png](http://i.creativecommons.org/l/by-nc-sa/3.0/88x31.png)"
   ]
  }
 ],
 "metadata": {
  "kernelspec": {
   "display_name": "Python 2",
   "language": "python",
   "name": "python2"
  },
  "language_info": {
   "codemirror_mode": {
    "name": "ipython",
    "version": 2
   },
   "file_extension": ".py",
   "mimetype": "text/x-python",
   "name": "python",
   "nbconvert_exporter": "python",
   "pygments_lexer": "ipython2",
   "version": "2.7.12"
  }
 },
 "nbformat": 4,
 "nbformat_minor": 1
}
