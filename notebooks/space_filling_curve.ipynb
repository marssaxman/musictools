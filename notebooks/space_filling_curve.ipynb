{
 "cells": [
  {
   "cell_type": "code",
   "execution_count": null,
   "metadata": {},
   "outputs": [],
   "source": [
    "# This has to go in its own cell or it screws up the defaults we'll set later\n",
    "%matplotlib inline"
   ]
  },
  {
   "cell_type": "code",
   "execution_count": null,
   "metadata": {},
   "outputs": [],
   "source": [
    "import numpy as np\n",
    "from scrapbook import plot\n",
    "from scrapbook.plot import plt as pyplot"
   ]
  },
  {
   "cell_type": "code",
   "execution_count": null,
   "metadata": {},
   "outputs": [],
   "source": [
    "import musictoys\n",
    "import musictoys.audiofile\n",
    "import musictoys.analysis\n",
    "import musictoys.spectral"
   ]
  },
  {
   "cell_type": "code",
   "execution_count": null,
   "metadata": {},
   "outputs": [],
   "source": [
    "def spacefillpath(height, width, dtype=np.int):\n",
    "    matrix = np.zeros((height, width), dtype=dtype)\n",
    "    y, x = 1, 1\n",
    "    while x < width and y < height:\n",
    "        nextx = min(x*2, width)\n",
    "        if nextx > x:\n",
    "            more = nextx - x\n",
    "            current = matrix[0:y, 0:more]\n",
    "            matrix[0:y, x:nextx] = current + (y*more)\n",
    "            x = nextx\n",
    "        nexty = min(y*2, height)\n",
    "        if nexty > y:\n",
    "            more = nexty - y\n",
    "            current = matrix[0:more, 0:x]\n",
    "            matrix[y:nexty, 0:x] = current + (x*more)\n",
    "            y = nexty\n",
    "    return matrix\n",
    "\n",
    "\n",
    "def printmatindex(matrix):\n",
    "    colmask = \"%3d \" * matrix.shape[1]\n",
    "    for i in range(matrix.shape[0]):\n",
    "        print colmask % tuple(matrix[i,:])"
   ]
  },
  {
   "cell_type": "code",
   "execution_count": null,
   "metadata": {},
   "outputs": [],
   "source": [
    "#filedata, filerate = musictoys.audiofile.read(\"audio_files/kronfeld-dreamatic.wav\")\n",
    "#filedata, filerate = musictoys.audiofile.read(\"audio_files/jfb-back_home.wav\")\n",
    "#filedata, filerate = musictoys.audiofile.read(\"audio_files/liberty_chaps-get_up_get_down.wav\")\n",
    "#filedata, filerate = musictoys.audiofile.read(\"/home/mars/Music/Track Library/5175913_Black_Noir_Schwarz_feat__Renegade_Original_Mix.mp3\")\n",
    "filedata, filerate = musictoys.audiofile.read(\"/home/mars/Music/Track Library/7536385_Undulator_Original_Mix.mp3\")\n",
    "samples, samplerate = musictoys.analysis.normalize(filedata, filerate)"
   ]
  },
  {
   "cell_type": "code",
   "execution_count": null,
   "metadata": {},
   "outputs": [],
   "source": [
    "pathmatrix = spacefillpath(256, 256)\n",
    "print \"number of samples == %d, number of steps in path == %d\" % (len(samples), pathmatrix.size)\n",
    "step_size = len(samples) / float(pathmatrix.size)\n",
    "print \"step_size == %f\" % step_size\n",
    "\n",
    "# how big an FFT will we need for this step size?\n",
    "clip_size = int(2 ** ( np.ceil(np.log(step_size) / np.log(2)) ))\n",
    "print \"clip_size == %d\" % clip_size"
   ]
  },
  {
   "cell_type": "code",
   "execution_count": null,
   "metadata": {},
   "outputs": [],
   "source": [
    "energies = np.zeros(pathmatrix.size)\n",
    "powers = np.zeros(pathmatrix.size)\n",
    "centroids = np.zeros(pathmatrix.size)\n",
    "rolloffs = np.zeros(pathmatrix.size)\n",
    "crests = np.zeros(pathmatrix.size)\n",
    "variances = np.zeros(pathmatrix.size)\n",
    "entropies = np.zeros(pathmatrix.size)\n",
    "flatnesses = np.zeros(pathmatrix.size)\n",
    "\n",
    "spec_size = int(clip_size/2)\n",
    "spectrumbucket = np.zeros(spec_size, dtype=np.float)\n",
    "spec_count = 0\n",
    "\n",
    "for i in np.arange(pathmatrix.size-1):\n",
    "    start = int(np.floor(i * step_size))\n",
    "    stop = min(start+clip_size, len(samples))\n",
    "    clip = samples[start:stop]\n",
    "    energies[i] = np.abs(clip).sum() / clip_size\n",
    "    # compute rms\n",
    "    powers[i] = np.sqrt(np.square(clip).sum()) / clip_size\n",
    "    # get spectrum, compute centroid & crest\n",
    "    spectrum = np.abs(np.fft.rfft(clip))[:spectrumbucket.shape[0]] / spec_size\n",
    "    centroids[i] = musictoys.spectral.centroid(spectrum, samplerate)\n",
    "    rolloffs[i] = musictoys.spectral.rolloff(spectrum, samplerate)\n",
    "    crests[i] = musictoys.spectral.crest(spectrum)\n",
    "    variances[i] = musictoys.spectral.variance(spectrum)\n",
    "    entropies[i] = musictoys.spectral.entropy(spectrum)\n",
    "    flatnesses[i] = musictoys.spectral.flatness(spectrum, 2.0)\n",
    "    # compute some helpful sats which will hopefully help us understand this all better\n",
    "    np.add(spectrum, spectrumbucket, out=spectrumbucket)\n",
    "    spec_count += 1\n",
    "    \n",
    "spectrumbucket /= float(spec_count)\n",
    "energies -= energies.min()\n",
    "powers -= powers.min()\n",
    "powers /= energies.max()\n",
    "energies /= energies.max()"
   ]
  },
  {
   "cell_type": "code",
   "execution_count": null,
   "metadata": {},
   "outputs": [],
   "source": [
    "fig, axarr = plot.plt.subplots(2, 3)\n",
    "fig.set_figheight(6)\n",
    "\n",
    "axarr[0,0].hist(centroids, bins=50)\n",
    "axarr[0,0].set_title(\"Centroids\")\n",
    "\n",
    "axarr[0,1].hist(rolloffs, bins=50)\n",
    "axarr[0,1].set_title(\"Rolloff freq\")\n",
    "\n",
    "axarr[0,2].hist(crests, bins=50)\n",
    "axarr[0,2].set_title(\"Crest factor\")\n",
    "\n",
    "axarr[1,0].hist(variances, bins=50)\n",
    "axarr[1,0].set_title(\"Variance\")\n",
    "\n",
    "axarr[1,1].hist(entropies, bins=50)\n",
    "axarr[1,1].set_title(\"Entropy\")\n",
    "\n",
    "axarr[1,2].hist(flatnesses, bins=50)\n",
    "axarr[1,2].set_title(\"Flatness\")\n",
    "\n",
    "plot.plt.show()"
   ]
  },
  {
   "cell_type": "code",
   "execution_count": null,
   "metadata": {},
   "outputs": [],
   "source": [
    "plot.plt.figure()\n",
    "plot.plt.imshow(energies[pathmatrix], aspect='equal', cmap='gray', interpolation='nearest')\n"
   ]
  },
  {
   "cell_type": "code",
   "execution_count": null,
   "metadata": {},
   "outputs": [],
   "source": [
    "red_layer = np.square(1.0 - np.multiply(low_bias, energies)[pathmatrix])\n",
    "green_layer = (1.0 - energies[pathmatrix])\n",
    "blue_layer = np.square(1.0 - np.multiply(hi_bias, energies)[pathmatrix])\n",
    "image_rgb = np.stack((red_layer, green_layer, blue_layer), axis=2)\n",
    "image_rgb = image_rgb ** 1.5\n",
    "plot.plt.figure(figsize=(8,8))\n",
    "plot.plt.imshow(image_rgb, aspect='equal', interpolation='nearest')"
   ]
  },
  {
   "cell_type": "code",
   "execution_count": null,
   "metadata": {},
   "outputs": [],
   "source": [
    "def hilbert_num_to_point(m, d):\n",
    "    \"\"\"\n",
    "    m is the width/height of the hilbert square\n",
    "    d is the hilbert number, which therefore must be in the range 0..m**2\n",
    "    returns X,Y\n",
    "    \"\"\"\n",
    "\n",
    "    n = 2 ** m\n",
    "\n",
    "    x = 0\n",
    "    y = 0\n",
    "    t = d\n",
    "    s = 1\n",
    "\n",
    "    while ( s < n ):\n",
    "        rx = ( ( t // 2 ) % 2 )\n",
    "        if ( rx == 0 ):\n",
    "          ry = ( t % 2 )\n",
    "        else:\n",
    "          ry = ( ( t ^ rx ) % 2 )\n",
    "        x, y = rot ( s, x, y, rx, ry )\n",
    "        x = x + s * rx\n",
    "        y = y + s * ry\n",
    "        t = ( t // 4 )\n",
    "\n",
    "        s = s * 2\n",
    "\n",
    "    return x, y\n",
    "\n",
    "def rot ( n, x, y, rx, ry ):\n",
    "\n",
    "#*****************************************************************************80\n",
    "#\n",
    "## ROT rotates and flips a quadrant appropriately.\n",
    "#\n",
    "#  Licensing:\n",
    "#\n",
    "#    This code is distributed under the GNU LGPL license. \n",
    "#\n",
    "#  Modified:\n",
    "#\n",
    "#    03 January 2016\n",
    "#\n",
    "#  Parameters:\n",
    "#\n",
    "#    Input, integer N, the length of a side of the square.  \n",
    "#    N must be a power of 2.\n",
    "#\n",
    "#    Input/output, integer X, Y, the coordinates of a point.\n",
    "#\n",
    "#    Input, integer RX, RY, ???\n",
    "#\n",
    "  if ( ry == 0 ):\n",
    "#\n",
    "#  Reflect.\n",
    "#\n",
    "    if ( rx == 1 ):\n",
    "      x = n - 1 - x\n",
    "      y = n - 1 - y\n",
    "#\n",
    "#  Flip.\n",
    "#\n",
    "    t = x\n",
    "    x = y\n",
    "    y = t\n",
    "\n",
    "  return x, y"
   ]
  },
  {
   "cell_type": "code",
   "execution_count": null,
   "metadata": {},
   "outputs": [],
   "source": [
    "# let's try the same project with a hilbert curve\n",
    "hilbuf = np.zeros((pathmatrix.shape[0], pathmatrix.shape[0]))\n",
    "\n",
    "for i in np.arange(128*128):\n",
    "    x, y = hilbert_num_to_point(128, i)\n",
    "    hilbuf[y,x] = powers[i]"
   ]
  },
  {
   "cell_type": "code",
   "execution_count": null,
   "metadata": {},
   "outputs": [],
   "source": [
    "fig, axarr = plot.plt.subplots(1, 2)\n",
    "fig.set_figheight(6)\n",
    "fig.set_figwidth(12)\n",
    "\n",
    "axarr[0].imshow(imagebuffer, aspect='equal', cmap='gray', interpolation='nearest')\n",
    "axarr[0].set_title(\"Martian quadtree\")\n",
    "\n",
    "axarr[1].imshow(hilbuf, aspect='equal', cmap='gray', interpolation='nearest')\n",
    "axarr[1].set_title(\"Hilbert curve\")\n",
    "\n",
    "plot.plt.show()"
   ]
  },
  {
   "cell_type": "code",
   "execution_count": null,
   "metadata": {},
   "outputs": [],
   "source": []
  }
 ],
 "metadata": {
  "kernelspec": {
   "display_name": "Python 2",
   "language": "python",
   "name": "python2"
  },
  "language_info": {
   "codemirror_mode": {
    "name": "ipython",
    "version": 2
   },
   "file_extension": ".py",
   "mimetype": "text/x-python",
   "name": "python",
   "nbconvert_exporter": "python",
   "pygments_lexer": "ipython2",
   "version": "2.7.12"
  }
 },
 "nbformat": 4,
 "nbformat_minor": 2
}
