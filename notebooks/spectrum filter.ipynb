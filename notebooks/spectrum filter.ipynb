{
 "cells": [
  {
   "cell_type": "code",
   "execution_count": null,
   "metadata": {},
   "outputs": [],
   "source": [
    "import librosa\n",
    "import librosa.display\n",
    "import IPython.display\n",
    "import numpy as np\n",
    "\n",
    "import matplotlib.pyplot as plt\n",
    "import matplotlib.style as ms\n",
    "ms.use('seaborn-muted')\n",
    "%matplotlib inline"
   ]
  },
  {
   "cell_type": "code",
   "execution_count": null,
   "metadata": {},
   "outputs": [],
   "source": [
    "y, sr = librosa.load(\"/home/mars/musictools/loop.wav\")\n",
    "plt.figure(figsize=(16,4))\n",
    "plt.subplot(1,1,1)\n",
    "librosa.display.waveplot(y, sr=sr)"
   ]
  },
  {
   "cell_type": "code",
   "execution_count": null,
   "metadata": {},
   "outputs": [],
   "source": [
    "# How about something more advanced?  Let's decompose a spectrogram with NMF, and then resynthesize an individual component\n",
    "D = librosa.stft(y, n_fft=64)\n",
    "\n",
    "# Separate the magnitude and phase\n",
    "S, phase = librosa.magphase(D)\n",
    "\n",
    "librosa.display.specshow(librosa.amplitude_to_db(S, ref=np.max))"
   ]
  },
  {
   "cell_type": "code",
   "execution_count": null,
   "metadata": {},
   "outputs": [],
   "source": [
    "# let's make a filter\n",
    "fc = 0.5  # Cutoff frequency as a fraction of the sampling rate (in (0, 0.5)).\n",
    "b = 0.2  # Transition band, as a fraction of the sampling rate (in (0, 0.5)).\n",
    "N = int(np.ceil((4 / b)))\n",
    "if not N % 2: N += 1  # Make sure that N is odd.\n",
    "n = np.arange(N)\n",
    " \n",
    "# Compute sinc filter.\n",
    "h = np.sinc(2 * fc * (n - (N - 1) / 2.))\n",
    " \n",
    "# Compute Blackman window.\n",
    "w = 0.42 - 0.5 * np.cos(2 * np.pi * n / (N - 1)) + \\\n",
    "    0.08 * np.cos(4 * np.pi * n / (N - 1))\n",
    " \n",
    "# Multiply sinc filter with window.\n",
    "h = h * w\n",
    " \n",
    "# Normalize to get unity gain.\n",
    "h = h / np.sum(h)"
   ]
  },
  {
   "cell_type": "code",
   "execution_count": null,
   "metadata": {},
   "outputs": [],
   "source": [
    "newspectrum = S.copy()\n",
    "means = np.median(newspectrum, axis=1)\n",
    "newspectrum = np.tile(np.array([means]), (newspectrum.shape[1], 1)).transpose()\n",
    "\n",
    "#newspectrum = librosa.decompose.nn_filter(newspectrum, axis=1)\n",
    "#gradient = np.gradient(newspectrum, axis=1)\n",
    "#np.apply_along_axis(lambda m: np.average(m), axis=0, arr=newspectrum)\n",
    "plt.figure(figsize=(16,4))\n",
    "plt.subplot(1,1,1)\n",
    "librosa.display.specshow(librosa.amplitude_to_db(newspectrum, ref=np.max))\n"
   ]
  },
  {
   "cell_type": "code",
   "execution_count": null,
   "metadata": {},
   "outputs": [],
   "source": [
    "# convert back to sound, eh?\n",
    "y_k = librosa.istft(newspectrum * phase)\n",
    "plt.figure(figsize=(16,4))\n",
    "plt.subplot(1,1,1)\n",
    "librosa.display.waveplot(y_k, sr=sr)\n",
    "IPython.display.Audio(data=y_k, rate=sr)"
   ]
  },
  {
   "cell_type": "code",
   "execution_count": null,
   "metadata": {},
   "outputs": [],
   "source": []
  }
 ],
 "metadata": {
  "kernelspec": {
   "display_name": "Python 2",
   "language": "python",
   "name": "python2"
  },
  "language_info": {
   "codemirror_mode": {
    "name": "ipython",
    "version": 2
   },
   "file_extension": ".py",
   "mimetype": "text/x-python",
   "name": "python",
   "nbconvert_exporter": "python",
   "pygments_lexer": "ipython2",
   "version": "2.7.12"
  }
 },
 "nbformat": 4,
 "nbformat_minor": 2
}
