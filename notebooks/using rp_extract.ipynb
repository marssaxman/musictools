{
 "cells": [
  {
   "cell_type": "code",
   "execution_count": null,
   "metadata": {},
   "outputs": [],
   "source": [
    "%matplotlib inline\n",
    "%reload_ext autoreload\n",
    "%autoreload 2\n",
    "%pushd\n",
    "%cd \"..\"\n",
    "from mjs import tracks\n",
    "import mjs.plot  \n",
    "from lib.rp_extract.rp_extract import rp_extract\n",
    "from lib.rp_extract.audiofile_read import audiofile_read\n",
    "import lib.rp_extract.rp_plot as rp_plot\n",
    "import numpy as np\n",
    "import matplotlib.pyplot as pyplot\n",
    "from essentia.streaming import *\n",
    "%popd"
   ]
  },
  {
   "cell_type": "code",
   "execution_count": null,
   "metadata": {},
   "outputs": [],
   "source": [
    "# we're going to load a bunch of files and plot their rhythm signatures.\n",
    "files = [tracks.taphon, tracks.burning_sun, tracks.lucid_illusions, tracks.new_rhythm, tracks.entropath]\n",
    "for path in files:\n",
    "    samplerate, samplewidth, wavedata = audiofile_read(path)\n",
    "    feat = rp_extract(wavedata, samplerate, extract_rp = True, extract_ssd=True, extract_rh=True)\n",
    "    rp_plot.plotrp(feat['rp'])\n",
    "    rp_plot.plotssd(feat['ssd'])\n",
    "    rp_plot.plotrh(feat['rh'])\n",
    "\n",
    "    "
   ]
  },
  {
   "cell_type": "code",
   "execution_count": null,
   "metadata": {},
   "outputs": [],
   "source": []
  }
 ],
 "metadata": {
  "kernelspec": {
   "display_name": "Python 2",
   "language": "python",
   "name": "python2"
  },
  "language_info": {
   "codemirror_mode": {
    "name": "ipython",
    "version": 2
   },
   "file_extension": ".py",
   "mimetype": "text/x-python",
   "name": "python",
   "nbconvert_exporter": "python",
   "pygments_lexer": "ipython2",
   "version": "2.7.12"
  }
 },
 "nbformat": 4,
 "nbformat_minor": 2
}
