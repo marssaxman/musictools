{
 "cells": [
  {
   "cell_type": "code",
   "execution_count": null,
   "metadata": {},
   "outputs": [],
   "source": [
    "%matplotlib inline\n",
    "%reload_ext autoreload\n",
    "%autoreload 2\n",
    "%pushd\n",
    "%cd \"..\"\n",
    "from mjs import tracks\n",
    "import mjs.plot  \n",
    "from lib.rp_extract import audiofile_read\n",
    "import numpy as np\n",
    "import matplotlib.pyplot as pyplot\n",
    "import matplotlib.mlab\n",
    "import scipy.signal\n",
    "import scipy.fftpack\n",
    "%popd\n",
    "print dir(tracks)"
   ]
  },
  {
   "cell_type": "code",
   "execution_count": null,
   "metadata": {},
   "outputs": [],
   "source": [
    "samplerate, samplewidth, wavedata = audiofile_read.audiofile_read(\"/home/mars/musictools/loop.wav\")\n",
    "nsamples = wavedata.shape[0]\n",
    "nchannels = wavedata.shape[1]\n",
    "print samplerate, \"Hz,\", samplewidth*8, \"bit,\", nchannels, \"channel(s),\", nsamples, \"samples\""
   ]
  },
  {
   "cell_type": "code",
   "execution_count": null,
   "metadata": {},
   "outputs": [],
   "source": [
    "samples = wavedata.copy()\n",
    "# Reduce audio to a single channel\n",
    "if len(samples.shape) > 1:\n",
    "    samples = samples.mean(axis=1)"
   ]
  },
  {
   "cell_type": "code",
   "execution_count": null,
   "metadata": {},
   "outputs": [],
   "source": [
    "fig = pyplot.figure(num=None, figsize=(16, 3), dpi=72, facecolor='w', edgecolor='k')\n",
    "axes = fig.add_subplot(111)\n",
    "mjs.plot.waveform(axes, samples)\n",
    "pyplot.show()\n"
   ]
  },
  {
   "cell_type": "code",
   "execution_count": null,
   "metadata": {},
   "outputs": [],
   "source": [
    "samples = wavedata.copy()\n",
    "\n",
    "as_strided = np.lib.stride_tricks.as_strided\n",
    "\n",
    "frame_size = 1024\n",
    "overlap = 4\n",
    "# Hanning window function coefficients.\n",
    "hann = 0.5 - 0.5 * np.cos(2.0 * np.pi * (np.arange(frame_size)) / frame_size)\n",
    "\n",
    "step_size = frame_size * (overlap-1) / overlap\n",
    "padding = step_size - (len(samples) % step_size)\n",
    "if padding:\n",
    "    np.pad(samples, (0,padding), 'constant')\n",
    "    \n",
    "as_strided = np.lib.stride_tricks.as_strided\n",
    "bin_count = len(samples)/step_size\n",
    "shape = (bin_count, frame_size)\n",
    "strides = (samples.strides[0] * step_size, samples.strides[0])\n",
    "frames = as_strided(samples, shape=shape, strides=strides)\n",
    "\n",
    "spectrogram = []\n",
    "for frame in frames:\n",
    "    # take FFT and discard symmetric part of the result\n",
    "    spectrogram.append(np.fft.rfft(frame * hann)[:frame_size//2])\n",
    "\n",
    "spectrogram = np.column_stack(spectrogram)\n",
    "\n",
    "# take absolute value to get magnitude\n",
    "spectrogram = np.absolute(spectrogram) * 2.0 / np.sum(hann)\n",
    "# convert to decibels, clip noise floor\n",
    "spectrogram = (20 * np.log10(spectrogram)).clip(-120)\n"
   ]
  },
  {
   "cell_type": "code",
   "execution_count": null,
   "metadata": {},
   "outputs": [],
   "source": [
    "fig = pyplot.figure(num=None, figsize=(16, 3), dpi=72, facecolor='w', edgecolor='k')\n",
    "axes = fig.add_subplot(111)\n",
    "\n",
    "times = np.arange(0, spectrogram.shape[1], dtype=np.float) * frame_size / samplerate / overlap\n",
    "freqs = np.arange(0, frame_size / 2, dtype=np.float) * samplerate / frame_size\n",
    "\n",
    "axes.pcolormesh(times, freqs, spectrogram, vmin=-120, vmax=0)\n",
    "axes.set_xlim(0, times[-1])\n",
    "axes.set_ylim(0, freqs[-1])\n",
    "\n",
    "pyplot.show()"
   ]
  },
  {
   "cell_type": "code",
   "execution_count": null,
   "metadata": {},
   "outputs": [],
   "source": []
  },
  {
   "cell_type": "code",
   "execution_count": null,
   "metadata": {},
   "outputs": [],
   "source": []
  }
 ],
 "metadata": {
  "kernelspec": {
   "display_name": "Python 2",
   "language": "python",
   "name": "python2"
  },
  "language_info": {
   "codemirror_mode": {
    "name": "ipython",
    "version": 2
   },
   "file_extension": ".py",
   "mimetype": "text/x-python",
   "name": "python",
   "nbconvert_exporter": "python",
   "pygments_lexer": "ipython2",
   "version": "2.7.12"
  }
 },
 "nbformat": 4,
 "nbformat_minor": 2
}
