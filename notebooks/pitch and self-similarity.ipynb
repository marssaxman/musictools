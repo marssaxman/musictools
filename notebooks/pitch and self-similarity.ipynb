{
 "cells": [
  {
   "cell_type": "markdown",
   "metadata": {},
   "source": [
    "Robert Miller"
   ]
  },
  {
   "cell_type": "code",
   "execution_count": null,
   "metadata": {},
   "outputs": [],
   "source": [
    "from essentia.standard import *\n",
    "import glob"
   ]
  },
  {
   "cell_type": "code",
   "execution_count": null,
   "metadata": {},
   "outputs": [],
   "source": [
    "myLib = glob.glob('<some directory here>/*.wav')"
   ]
  },
  {
   "cell_type": "code",
   "execution_count": null,
   "metadata": {},
   "outputs": [],
   "source": [
    "sndFiles = []\n",
    "for snd in myLib:\n",
    "    loader = MonoLoader(filename=snd)\n",
    "    sndFiles.append(loader())"
   ]
  },
  {
   "cell_type": "code",
   "execution_count": null,
   "metadata": {},
   "outputs": [],
   "source": [
    "w = Windowing(type='hann')\n",
    "spectrum = Spectrum()\n",
    "pitchYin = PitchYinFFT()"
   ]
  },
  {
   "cell_type": "code",
   "execution_count": null,
   "metadata": {},
   "outputs": [],
   "source": [
    "titles = []\n",
    "for ml in myLib:\n",
    "    titles.append(ml[55:])"
   ]
  },
  {
   "cell_type": "markdown",
   "metadata": {},
   "source": [
    "### Pitch Histograms"
   ]
  },
  {
   "cell_type": "code",
   "execution_count": null,
   "metadata": {},
   "outputs": [],
   "source": [
    "def getPitches(audio, windowSize=2048, hop=1024):\n",
    "    pitches = []\n",
    "    confidences = []\n",
    "    for frame in FrameGenerator(audio, frameSize=windowSize, hopSize=hop):\n",
    "        pitch, pConf = pitchYin(spectrum(w(frame)))\n",
    "        pitches.append(pitch)\n",
    "        confidences.append(pConf)\n",
    "    return pitches, confidences"
   ]
  },
  {
   "cell_type": "code",
   "execution_count": null,
   "metadata": {},
   "outputs": [],
   "source": [
    "p1, c1 = getPitches(sndFiles[0])"
   ]
  },
  {
   "cell_type": "code",
   "execution_count": null,
   "metadata": {},
   "outputs": [],
   "source": [
    "plot(p1)"
   ]
  },
  {
   "cell_type": "code",
   "execution_count": null,
   "metadata": {},
   "outputs": [],
   "source": [
    "plot(p1[2000:2100])\n",
    "twinx()\n",
    "plot(c1[2000:2100],'r')"
   ]
  },
  {
   "cell_type": "code",
   "execution_count": null,
   "metadata": {},
   "outputs": [],
   "source": [
    "pitches = []\n",
    "confidences = []\n",
    "for snd in sndFiles:\n",
    "    p,c = getPitches(snd)\n",
    "    pitches.append(p)\n",
    "    confidences.append(c)"
   ]
  },
  {
   "cell_type": "code",
   "execution_count": null,
   "metadata": {},
   "outputs": [],
   "source": [
    "#Code from Class\n",
    "def midi2Hz(midinote, tuning=440.0):\n",
    "    return tuning * (2**((midinote - 69)/12.0))\n",
    "\n",
    "num_freqs = 8*12 # eight octaves from C0\n",
    "quant_freqs = [midi2Hz(i + 24) for i in range(num_freqs)]\n",
    "\n",
    "def quantize_freq(freq_list, quant_freqs, quant_offset=24):\n",
    "    quantized = zeros_like(freq_list)\n",
    "    for i in range(len(freq_list)):\n",
    "        arg = argwhere(array(quant_freqs) > freq_list[i])\n",
    "        if arg.size == 0 or arg[0] == 0:\n",
    "            quantized[i] = 0\n",
    "        elif quant_freqs[arg[0]] - freq_list[i] > freq_list[i] - quant_freqs[arg[0] - 1]:\n",
    "            quantized[i] = arg[0] - 1\n",
    "        else:\n",
    "            quantized[i] = arg[0]\n",
    "    return quantized + quant_offset"
   ]
  },
  {
   "cell_type": "code",
   "execution_count": null,
   "metadata": {},
   "outputs": [],
   "source": [
    "quantized_pitches = []\n",
    "for p in pitches:\n",
    "    quantized_pitches.append(quantize_freq(p,quant_freqs))"
   ]
  },
  {
   "cell_type": "code",
   "execution_count": null,
   "metadata": {},
   "outputs": [],
   "source": [
    "hist(quantized_pitches[0],arange(40,100));\n",
    "title(titles[0])"
   ]
  },
  {
   "cell_type": "code",
   "execution_count": null,
   "metadata": {},
   "outputs": [],
   "source": [
    "hist(quantized_pitches[1],arange(40,100));\n",
    "title(titles[1])"
   ]
  },
  {
   "cell_type": "code",
   "execution_count": null,
   "metadata": {},
   "outputs": [],
   "source": [
    "hist(quantized_pitches[2],arange(40,100));\n",
    "title(titles[2])"
   ]
  },
  {
   "cell_type": "code",
   "execution_count": null,
   "metadata": {},
   "outputs": [],
   "source": [
    "hist(quantized_pitches[3],arange(40,100));\n",
    "title(titles[3])"
   ]
  },
  {
   "cell_type": "code",
   "execution_count": null,
   "metadata": {},
   "outputs": [],
   "source": [
    "hist(quantized_pitches[4],arange(40,100));\n",
    "title(titles[4])"
   ]
  },
  {
   "cell_type": "markdown",
   "metadata": {},
   "source": [
    "### Self-Similarity Matrix"
   ]
  },
  {
   "cell_type": "code",
   "execution_count": null,
   "metadata": {},
   "outputs": [],
   "source": [
    "winSize = 200\n",
    "hopSize = 100\n",
    "signal = pitches[1]\n",
    "win_start = arange(0,len(signal)-winSize,hopSize)\n",
    "ssm = []\n",
    "for starti in win_start:\n",
    "    for startj in win_start:\n",
    "        wini = signal[starti:starti+winSize]\n",
    "        winj = signal[startj:startj+winSize]\n",
    "        ssm.append(corrcoef(wini,winj)[0,1])"
   ]
  },
  {
   "cell_type": "code",
   "execution_count": null,
   "metadata": {},
   "outputs": [],
   "source": [
    "ssm = array(ssm).reshape(len(win_start), len(win_start))"
   ]
  },
  {
   "cell_type": "code",
   "execution_count": null,
   "metadata": {},
   "outputs": [],
   "source": [
    "imshow(ssm,cmap='gray')\n",
    "title(titles[1])"
   ]
  },
  {
   "cell_type": "code",
   "execution_count": null,
   "metadata": {},
   "outputs": [],
   "source": [
    "def constructSSM(sig):\n",
    "    winSize = 200\n",
    "    hopSize = 100\n",
    "    signal = sig\n",
    "    win_start = arange(0,len(signal)-winSize,hopSize)\n",
    "    ssm = []\n",
    "    for starti in win_start:\n",
    "        for startj in win_start:\n",
    "            wini = signal[starti:starti+winSize]\n",
    "            winj = signal[startj:startj+winSize]\n",
    "            ssm.append(corrcoef(wini,winj)[0,1])\n",
    "    ssm = array(ssm).reshape(len(win_start), len(win_start))\n",
    "    return ssm"
   ]
  },
  {
   "cell_type": "code",
   "execution_count": null,
   "metadata": {},
   "outputs": [],
   "source": [
    "ssms = []\n",
    "for p in pitches:\n",
    "    ssms.append(constructSSM(p))"
   ]
  },
  {
   "cell_type": "code",
   "execution_count": null,
   "metadata": {},
   "outputs": [],
   "source": [
    "imshow(ssms[0])\n",
    "title(titles[0])"
   ]
  },
  {
   "cell_type": "code",
   "execution_count": null,
   "metadata": {},
   "outputs": [],
   "source": [
    "imshow(ssms[2])\n",
    "title(titles[2])"
   ]
  },
  {
   "cell_type": "code",
   "execution_count": null,
   "metadata": {},
   "outputs": [],
   "source": [
    "imshow(ssms[3],cmap='gray')\n",
    "title(titles[3])"
   ]
  },
  {
   "cell_type": "code",
   "execution_count": null,
   "metadata": {},
   "outputs": [],
   "source": [
    "imshow(ssms[4])"
   ]
  },
  {
   "cell_type": "code",
   "execution_count": null,
   "metadata": {},
   "outputs": [],
   "source": [
    "imshow(ssms[4],cmap='gray')\n",
    "title(myLib[4][55:])"
   ]
  },
  {
   "cell_type": "code",
   "execution_count": null,
   "metadata": {},
   "outputs": [],
   "source": []
  }
 ],
 "metadata": {
  "kernelspec": {
   "display_name": "Python 2",
   "language": "python",
   "name": "python2"
  },
  "language_info": {
   "codemirror_mode": {
    "name": "ipython",
    "version": 2
   },
   "file_extension": ".py",
   "mimetype": "text/x-python",
   "name": "python",
   "nbconvert_exporter": "python",
   "pygments_lexer": "ipython2",
   "version": "2.7.12"
  }
 },
 "nbformat": 4,
 "nbformat_minor": 1
}
