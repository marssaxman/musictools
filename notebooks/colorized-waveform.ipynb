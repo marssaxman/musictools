{
 "cells": [
  {
   "cell_type": "code",
   "execution_count": null,
   "metadata": {},
   "outputs": [],
   "source": [
    "# This has to go in its own cell or it screws up the defaults we'll set later\n",
    "%matplotlib inline"
   ]
  },
  {
   "cell_type": "code",
   "execution_count": null,
   "metadata": {},
   "outputs": [],
   "source": [
    "import numpy as np\n",
    "import musictoys\n",
    "import musictoys.audiofile\n",
    "import musictoys.analysis\n",
    "import musictoys.spectral\n",
    "from scrapbook import plot"
   ]
  },
  {
   "cell_type": "code",
   "execution_count": null,
   "metadata": {},
   "outputs": [],
   "source": [
    "filedata, filerate = musictoys.audiofile.read(\"audio_files/kronfeld-dreamatic.wav\")\n",
    "#filedata, filerate = musictoys.audiofile.read(\"audio_files/jfb-back_home.wav\")\n",
    "#filedata, filerate = musictoys.audiofile.read(\"audio_files/liberty_chaps-get_up_get_down.wav\")\n",
    "samples, samplerate = musictoys.analysis.normalize(filedata, filerate)"
   ]
  },
  {
   "cell_type": "code",
   "execution_count": null,
   "metadata": {},
   "outputs": [],
   "source": [
    "frame_size = 1024\n",
    "step_size = frame_size / 2\n",
    "step_rate = samplerate / step_size\n",
    "num_frames = int((len(samples) - frame_size + 1) / step_size)\n",
    "graph_height = 256\n",
    "gridx, gridy = np.mgrid[0:num_frames, 0:graph_height]"
   ]
  },
  {
   "cell_type": "code",
   "execution_count": null,
   "metadata": {},
   "outputs": [],
   "source": [
    "mag2d = np.zeros((num_frames, graph_height))\n",
    "for i in range(num_frames):\n",
    "    clip = samples[i*step_size:i*step_size+frame_size]\n",
    "    hist, bin_edges = np.histogram(clip, bins=graph_height, range=(-1,1))\n",
    "    mag2d[i] = hist / np.float(hist.max())\n",
    "# normalize each frame's samples: divide by its max value\n",
    "# take sqrt to represent power with brightness\n",
    "power2d = np.sqrt(mag2d)\n",
    "plot.gram(power2d, x=step_rate)"
   ]
  },
  {
   "cell_type": "code",
   "execution_count": null,
   "metadata": {},
   "outputs": [],
   "source": [
    "hann = np.hanning(frame_size)\n",
    "\n",
    "spectrogram = []\n",
    "for i in range(num_frames):\n",
    "    # get the clip and weight according to the hann window\n",
    "    clip = hann * samples[i*step_size:i*step_size+frame_size]\n",
    "    # take the FFT and discard the symmetrical components\n",
    "    spectrum = np.fft.rfft(clip)#[:frame_size/2]\n",
    "    # add this spectrum to the series of spectra\n",
    "    spectrogram.append(spectrum)\n",
    "\n",
    "spectrogram = np.array(spectrogram)\n",
    "# take absolute value to get magnitude\n",
    "spectrogram = np.absolute(spectrogram) / np.sum(hann)\n",
    "# square to get power\n",
    "powerspectrogram = np.square(spectrogram)\n",
    "# convert to decibels, clip noise floor\n",
    "loudnessgram = (10 * np.log10(powerspectrogram)).clip(-120)\n",
    "# compute the center frequency of each FFT bin\n",
    "nyquist_freq = samplerate / 2.0\n",
    "fft_bin_freq = np.arange(spectrogram.shape[1]) * nyquist_freq / float(spectrogram.shape[1])\n",
    "half_nyquist = nyquist_freq / 2.0"
   ]
  },
  {
   "cell_type": "code",
   "execution_count": null,
   "metadata": {},
   "outputs": [],
   "source": [
    "plot.gram(loudnessgram, x=step_rate, y=fft_bin_freq, cmap='plasma')"
   ]
  },
  {
   "cell_type": "code",
   "execution_count": null,
   "metadata": {},
   "outputs": [],
   "source": [
    "centroids = musictoys.spectral.centroid(powerspectrogram, samplerate)\n",
    "plot.line(centroids, x=step_rate)"
   ]
  },
  {
   "cell_type": "code",
   "execution_count": null,
   "metadata": {},
   "outputs": [],
   "source": [
    "spreads = musictoys.spectral.spread(spectrogram, samplerate)\n",
    "plot.line(spreads, x=step_rate)"
   ]
  },
  {
   "cell_type": "code",
   "execution_count": null,
   "metadata": {},
   "outputs": [],
   "source": [
    "crests = musictoys.spectral.crest(spectrogram)\n",
    "plot.line(crests, x=step_rate)\n"
   ]
  },
  {
   "cell_type": "code",
   "execution_count": null,
   "metadata": {},
   "outputs": [],
   "source": [
    "spectrum2d = np.zeros((num_frames, graph_height))\n",
    "# generate a normal distribution representing centroid & spread\n",
    "for i in range(num_frames):\n",
    "    centroid = centroids[i]\n",
    "    spread = spreads[i]\n",
    "    distribution = centroid + spread * np.random.randn(10000)\n",
    "    hist, bin_edges = np.histogram(distribution, bins=graph_height, range=(0,half_nyquist))\n",
    "    spectrum2d[i] = hist / np.float(hist.max())\n",
    "plot.gram(spectrum2d, x=step_rate, cmap='plasma')"
   ]
  },
  {
   "cell_type": "code",
   "execution_count": null,
   "metadata": {},
   "outputs": [],
   "source": [
    "hues = centroids / half_nyquist\n",
    "hues /= hues.max()\n",
    "plot.line(np.sqrt(hues), x=step_rate)"
   ]
  },
  {
   "cell_type": "code",
   "execution_count": null,
   "metadata": {},
   "outputs": [],
   "source": [
    "saturations = 1.0 - (crests / crests.max())\n",
    "plot.line(saturations, x=step_rate)\n",
    "# yes! this is the one"
   ]
  },
  {
   "cell_type": "code",
   "execution_count": null,
   "metadata": {},
   "outputs": [],
   "source": [
    "# generate corresponding hue and saturation matrices\n",
    "hue2d = hues[gridx]\n",
    "plot.gram(hue2d, x=step_rate, cmap='rainbow_r')"
   ]
  },
  {
   "cell_type": "code",
   "execution_count": null,
   "metadata": {},
   "outputs": [],
   "source": [
    "sat2d = saturations[gridx]\n",
    "plot.gram(sat2d, x=step_rate)\n"
   ]
  },
  {
   "cell_type": "code",
   "execution_count": null,
   "metadata": {},
   "outputs": [],
   "source": [
    "def hsl_to_rgb(h, s, l):\n",
    "    shape = h.shape\n",
    "    \n",
    "    # all inputs and outputs range 0..1\n",
    "    r = np.zeros(shape)\n",
    "    g = np.zeros(shape)\n",
    "    b = np.zeros(shape)\n",
    "    \n",
    "    # where the color is totally desaturated, use only luminance\n",
    "    grey = (s==0)\n",
    "    r[grey] = l[grey]\n",
    "    g[grey] = l[grey]\n",
    "    b[grey] = l[grey]\n",
    "    \n",
    "    # scale the saturation differently around medium luminance\n",
    "    q = np.zeros(shape)\n",
    "    low_luma = l < 0.5\n",
    "    q[low_luma] = l[low_luma] * (1 + s[low_luma])\n",
    "    hi_luma = l >= 0.5\n",
    "    q[hi_luma] = l[hi_luma] + s[hi_luma] - l[hi_luma] * s[hi_luma]\n",
    "    # the other hue factor is proportional\n",
    "    p = 2 * l - q;\n",
    "    \n",
    "    def channel(t):\n",
    "        # enforce limits\n",
    "        t[t < 0] += 1.0\n",
    "        t[t > 1] -= 1.0\n",
    "        x = np.zeros(shape)\n",
    "        tA = t < 1/6.\n",
    "        x[tA] = p[tA] + (q[tA] - p[tA]) * 6 * t[tA] \n",
    "        tB = (t >= 1/6.) & (t < 1/2.)\n",
    "        x[tB] = q[tB]\n",
    "        tC = (t >= 1/2.) & (t < 2/3.)\n",
    "        x[tC] = p[tC] + (q[tC] - p[tC]) * (2/3. - t[tC]) * 6\n",
    "        tD = t >= 2/3.\n",
    "        x[tD] = p[tD]\n",
    "        return x\n",
    "\n",
    "    chroma = (s != 0)\n",
    "    r[chroma] = channel(h + 1./3.)[chroma]\n",
    "    g[chroma] = channel(h)[chroma]\n",
    "    b[chroma] = channel(h - 1./3.)[chroma]\n",
    "\n",
    "    return r, g, b\n",
    "\n",
    "r2d, g2d, b2d = hsl_to_rgb(hue2d, sat2d, mag2d)\n",
    "image_rgb = np.stack((r2d, g2d, b2d), axis=2)\n",
    "plot.colorgram(image_rgb, x=step_rate)\n"
   ]
  },
  {
   "cell_type": "code",
   "execution_count": null,
   "metadata": {},
   "outputs": [],
   "source": []
  },
  {
   "cell_type": "code",
   "execution_count": null,
   "metadata": {},
   "outputs": [],
   "source": []
  }
 ],
 "metadata": {
  "kernelspec": {
   "display_name": "Python 2",
   "language": "python",
   "name": "python2"
  },
  "language_info": {
   "codemirror_mode": {
    "name": "ipython",
    "version": 2
   },
   "file_extension": ".py",
   "mimetype": "text/x-python",
   "name": "python",
   "nbconvert_exporter": "python",
   "pygments_lexer": "ipython2",
   "version": "2.7.12"
  }
 },
 "nbformat": 4,
 "nbformat_minor": 2
}
