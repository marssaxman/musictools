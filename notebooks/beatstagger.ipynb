{
 "cells": [
  {
   "cell_type": "code",
   "execution_count": null,
   "metadata": {},
   "outputs": [],
   "source": [
    "#!/usr/bin/env python\n",
    "\n",
    "import numpy\n",
    "import librosa\n",
    "import sys, os\n",
    "\n",
    "path = sys.argv[1]\n",
    "basepath = os.path.splitext(path)[0]\n",
    "signal, samplerate = librosa.load(path, sr=44100, mono=False)\n",
    "mono = librosa.to_mono(signal)\n",
    "\n",
    "# Compute the onset envelope, then track beats and measure tempo.\n",
    "onset_env = librosa.onset.onset_strength(y=mono, sr=samplerate)\n",
    "tempo, beats = librosa.beat.beat_track(\n",
    "\t\ty=mono,\n",
    "\t\tsr=samplerate,\n",
    "\t\tonset_envelope=onset_env,\n",
    "\t\tunits='samples'\n",
    ")\n",
    "\n",
    "# Get just the percussive component of the signal and use that for onset\n",
    "# detection.\n",
    "percussive = librosa.effects.percussive(y=mono)\n",
    "onsets = librosa.onset.onset_detect(\n",
    "\t\ty=percussive,\n",
    "\t\tsr=samplerate,\n",
    "\t\tbacktrack=True,\n",
    "\t\tunits='samples'\n",
    ")\n",
    "\n",
    "# Match each beat time with the nearest percussive onset.\n",
    "idx = librosa.util.match_events(beats, onsets, right=False)\n",
    "better_beats = [onsets[match] for match in idx]\n",
    "\n",
    "# Divide each beat into left and right, alternately.\n",
    "left = numpy.zeros(mono.shape)\n",
    "right = numpy.zeros(mono.shape)\n",
    "for i in range(len(better_beats)-1):\n",
    "\tbegindex = better_beats[i]\n",
    "\tendex = better_beats[i+1]\n",
    "\tif i % 2 == 0:\n",
    "\t\tleft[begindex:endex] = mono[begindex:endex]\n",
    "\telse:\n",
    "\t\tright[begindex:endex] = mono[begindex:endex]\n",
    "\n",
    "\n",
    "# Join the channels and write out as audio.\n",
    "joined = numpy.vstack((left, right))\n",
    "librosa.output.write_wav(basepath + \"_stagger.wav\", joined, samplerate)\n",
    "\n"
   ]
  }
 ],
 "metadata": {
  "kernelspec": {
   "display_name": "Python 2",
   "language": "python",
   "name": "python2"
  },
  "language_info": {
   "codemirror_mode": {
    "name": "ipython",
    "version": 2
   },
   "file_extension": ".py",
   "mimetype": "text/x-python",
   "name": "python",
   "nbconvert_exporter": "python",
   "pygments_lexer": "ipython2",
   "version": "2.7.12"
  }
 },
 "nbformat": 4,
 "nbformat_minor": 2
}
