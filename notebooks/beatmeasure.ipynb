{
 "cells": [
  {
   "cell_type": "code",
   "execution_count": null,
   "metadata": {},
   "outputs": [],
   "source": [
    "#!/usr/bin/env python\n",
    "\n",
    "import numpy\n",
    "import librosa\n",
    "import sys, os\n",
    "\n",
    "path = sys.argv[1]\n",
    "basepath = os.path.splitext(path)[0]\n",
    "signal, samplerate = librosa.load(path, sr=44100, mono=False)\n",
    "left = signal[0, :]\n",
    "right = signal[1, :]\n",
    "mono = librosa.to_mono(signal)\n",
    "\n",
    "# Track beats and measure tempo.\n",
    "tempo, beats = librosa.beat.beat_track(\n",
    "\t\ty=mono,\n",
    "\t\tsr=samplerate,\n",
    "\t\tunits='samples'\n",
    ")\n",
    "\n",
    "print \"Estimated tempo: \" + str(tempo)\n",
    "\n",
    "# Extract the percussive component of the signal and detect onsets, with\n",
    "# backtracking toward the most recent minimal-energy moment. We'll use this to\n",
    "# compute tempo-synced beat slice windows.\n",
    "percussive = librosa.effects.percussive(y=mono)\n",
    "onsets = librosa.onset.onset_detect(\n",
    "\t\ty=percussive,\n",
    "\t\tsr=samplerate,\n",
    "\t\tbacktrack=True,\n",
    "\t\tunits='samples'\n",
    ")\n",
    "\n",
    "# For each beat, find the percussive onset immediately preceding, then get the\n",
    "# delta between the percussive onset time and the beat time. We'll backtrack\n",
    "# each beat time by the median beat-onset delta to compute reasonable slice\n",
    "# points for beat-synchronized percussion manipulation effects.\n",
    "pred_onsets = onsets[numpy.searchsorted(onsets, beats)-1]\n",
    "median_backtrack = numpy.median(beats - pred_onsets)\n",
    "beat_slices = beats - median_backtrack\n",
    "\n",
    "# For each beat, separate the initial percussive event from the remainder.\n",
    "# A single beat may include multiple percussive events, but we only care about\n",
    "# the event most immediately associated with the beat itself.\n",
    "succ_onsets = onsets[numpy.searchsorted(onsets, beats)]\n",
    "beat_perc_events = zip(beat_slices, succ_onsets)\n",
    "\n",
    "fd = open(basepath + \"_beats.txt\", 'w')\n",
    "for begin, end in beat_perc_events:\n",
    "\tbeginstamp = str(begin / float(samplerate))\n",
    "\tendstamp = str(end / float(samplerate))\n",
    "\tfd.write(beginstamp + \"\\t\" + endstamp + \"\\n\")\n",
    "fd.close()\n",
    "\n"
   ]
  }
 ],
 "metadata": {
  "kernelspec": {
   "display_name": "Python 2",
   "language": "python",
   "name": "python2"
  },
  "language_info": {
   "codemirror_mode": {
    "name": "ipython",
    "version": 2
   },
   "file_extension": ".py",
   "mimetype": "text/x-python",
   "name": "python",
   "nbconvert_exporter": "python",
   "pygments_lexer": "ipython2",
   "version": "2.7.12"
  }
 },
 "nbformat": 4,
 "nbformat_minor": 2
}
