{
 "cells": [
  {
   "cell_type": "code",
   "execution_count": 1,
   "metadata": {},
   "outputs": [],
   "source": [
    "%matplotlib inline\n",
    "import matplotlib.pyplot as plt\n",
    "import numpy as np\n",
    "plt.rc('figure', figsize=(16.0, 4.0))"
   ]
  },
  {
   "cell_type": "code",
   "execution_count": 2,
   "metadata": {},
   "outputs": [
    {
     "name": "stdout",
     "output_type": "stream",
     "text": [
      "120.185319767\n"
     ]
    }
   ],
   "source": [
    "import librosa\n",
    "signal, samplerate = librosa.load(\"/home/mars/musictoys/boat.wav\", sr=44100)\n",
    "onset_env = librosa.onset.onset_strength(signal, sr=samplerate)                      \n",
    "tempo = librosa.beat.tempo(onset_envelope=onset_env, sr=samplerate) \n",
    "print tempo[0]    "
   ]
  },
  {
   "cell_type": "code",
   "execution_count": 3,
   "metadata": {
    "scrolled": true
   },
   "outputs": [
    {
     "data": {
      "text/plain": [
       "[<matplotlib.lines.Line2D at 0x7f488623a550>]"
      ]
     },
     "execution_count": 3,
     "metadata": {},
     "output_type": "execute_result"
    },
    {
     "data": {
      "image/png": "[encoded data removed]",
      "text/plain": [
       "<matplotlib.figure.Figure at 0x7f48a3d5d350>"
      ]
     },
     "metadata": {},
     "output_type": "display_data"
    }
   ],
   "source": [
    "plt.plot(onset_env)"
   ]
  },
  {
   "cell_type": "code",
   "execution_count": 4,
   "metadata": {
    "scrolled": true
   },
   "outputs": [
    {
     "data": {
      "text/plain": [
       "[<matplotlib.lines.Line2D at 0x7f4885e4cb50>]"
      ]
     },
     "execution_count": 4,
     "metadata": {},
     "output_type": "execute_result"
    },
    {
     "data": {
      "image/png": "[encoded data removed]",
      "text/plain": [
       "<matplotlib.figure.Figure at 0x7f48861b9990>"
      ]
     },
     "metadata": {},
     "output_type": "display_data"
    }
   ],
   "source": [
    "spectrogram = []\n",
    "for offset in range(0, len(signal), 512):\n",
    "    f = signal[offset:offset+512]\n",
    "    spectrogram.append(np.abs(np.fft.rfft(f)))\n",
    "flux = []\n",
    "for i in range(len(spectrogram)-1):\n",
    "    flux.append(np.maximum(spectrogram[i+1] - spectrogram[i], 0))\n",
    "onset_strength = np.zeros(len(flux), np.float)\n",
    "for i, frame in enumerate(flux):\n",
    "    onset_strength[i] = np.sum(frame)\n",
    "plt.plot(onset_strength)"
   ]
  },
  {
   "cell_type": "code",
   "execution_count": 5,
   "metadata": {
    "scrolled": true
   },
   "outputs": [
    {
     "name": "stdout",
     "output_type": "stream",
     "text": [
      "120.185319767\n"
     ]
    }
   ],
   "source": [
    "tempo = librosa.beat.tempo(onset_envelope=onset_strength, sr=samplerate, hop_length=512) \n",
    "print tempo[0]    "
   ]
  },
  {
   "cell_type": "code",
   "execution_count": 6,
   "metadata": {},
   "outputs": [],
   "source": [
    "from time import time\n",
    "class logtime:\n",
    "    def __init__(self, msg):\n",
    "        self.msg = msg\n",
    "    def __enter__(self):\n",
    "        print \"beginning %s\" % self.msg\n",
    "        self.start = time()\n",
    "    def __exit__(self, type, value, traceback):\n",
    "        elapsed = time() - self.start\n",
    "        print \"%s time: %.2f\" % (self.msg, elapsed)\n"
   ]
  },
  {
   "cell_type": "code",
   "execution_count": 50,
   "metadata": {},
   "outputs": [
    {
     "name": "stdout",
     "output_type": "stream",
     "text": [
      "120.185319767\n"
     ]
    }
   ],
   "source": [
    "def tempo_map(envelope, frame_rate):\n",
    "    # Look for patterns of activations in this envelope signal which are\n",
    "    # likely to correlate with the musical tempo.\n",
    "    # We will use an 8-second autocorrelation window so we can still\n",
    "    # capture a significant number of low-tempo beat events. This must be\n",
    "    # rounded to an even number of envelope frames.\n",
    "    window_size = int(8.0 * frame_rate)\n",
    "    window_mask = np.hanning(window_size)\n",
    "    # Our model holds that the average tempo is 120 BPM, and that tempos\n",
    "    # follow a log-normal distribution around that mean.\n",
    "    bpm_mean, bpm_std = 120.0, 1.0\n",
    "    bpms = np.empty(window_size, dtype=np.float)\n",
    "    bpms[0] = np.inf\n",
    "    bpms[1:] = frame_rate / np.arange(1.0, window_size) * 60.0\n",
    "    weight = np.exp(-0.5 * ((np.log2(bpms) - np.log2(bpm_mean)) / bpm_std)**2)\n",
    "    # Divide the signal into evenly sized windows; autocorrelate each one,\n",
    "    # accumulating the amplitudes into a histogram of tempo probabilities.\n",
    "    tempogram = np.zeros(window_size, np.float)\n",
    "    n_frames = 1 + len(envelope) - window_size\n",
    "    for i in range(n_frames):\n",
    "        frame = envelope[i:i + window_size] * window_mask\n",
    "        corr = np.correlate(frame, frame, mode='full')\n",
    "        corr = corr[corr.size / 2:]\n",
    "        tempogram += corr / np.max(np.abs(corr))\n",
    "    tempogram /= float(n_frames)\n",
    "    # Weight the frequency peaks by the probability distribution, then select\n",
    "    # the best remaining candidate. The corresponding BPM value is our result.\n",
    "    return bpms[np.argmax(tempogram * weight)]\n",
    "\n",
    "\n",
    "tempo = tempo_map(onset_strength, float(samplerate) / 512.0) \n",
    "print tempo "
   ]
  },
  {
   "cell_type": "code",
   "execution_count": 44,
   "metadata": {},
   "outputs": [],
   "source": [
    "def interval_histogram(activations, min_tau=1, max_tau=None):\n",
    "    # set the maximum delay\n",
    "    if max_tau is None:\n",
    "        max_tau = len(activations) - min_tau\n",
    "    # test all possible delays\n",
    "    taus = list(range(min_tau, max_tau + 1))\n",
    "    bins = []\n",
    "    # Note: this is faster than:\n",
    "    #   corr = np.correlate(activations, activations, mode='full')\n",
    "    #   bins = corr[len(activations) + min_tau - 1: len(activations) + max_tau]\n",
    "    for tau in taus:\n",
    "        bins.append(np.sum(np.abs(activations[tau:] * activations[0:-tau])))\n",
    "    # return histogram\n",
    "    return np.array(bins), np.array(taus)"
   ]
  },
  {
   "cell_type": "code",
   "execution_count": 9,
   "metadata": {},
   "outputs": [
    {
     "name": "stdout",
     "output_type": "stream",
     "text": [
      "(18680,)\n",
      "43\n"
     ]
    }
   ],
   "source": [
    "tempogram = interval_histogram(onset_env / onset_env.max())\n",
    "print tempogram[0].shape\n",
    "print tempogram[1][np.argmax(tempogram[0])]"
   ]
  },
  {
   "cell_type": "code",
   "execution_count": 10,
   "metadata": {},
   "outputs": [
    {
     "data": {
      "text/plain": [
       "[<matplotlib.lines.Line2D at 0x7f4885dfd750>]"
      ]
     },
     "execution_count": 10,
     "metadata": {},
     "output_type": "execute_result"
    },
    {
     "data": {
      "image/png": "[encoded data removed]",
      "text/plain": [
       "<matplotlib.figure.Figure at 0x7f4885e4c890>"
      ]
     },
     "metadata": {},
     "output_type": "display_data"
    }
   ],
   "source": [
    "plt.plot(tempogram[0])"
   ]
  },
  {
   "cell_type": "code",
   "execution_count": 11,
   "metadata": {},
   "outputs": [],
   "source": [
    "NO_TEMPO = 0\n",
    "def detect_tempo(histogram, fps):\n",
    "    \"\"\"\n",
    "    Extract the tempo from the given histogram.\n",
    "    Parameters\n",
    "    ----------\n",
    "    histogram : tuple\n",
    "        Histogram (tuple of 2 numpy arrays, the first giving the strengths of\n",
    "        the bins and the second corresponding delay values).\n",
    "    fps : float\n",
    "        Frames per second.\n",
    "    Returns\n",
    "    -------\n",
    "    tempi : numpy array\n",
    "        Numpy array with the dominant tempi [bpm] (first column) and their\n",
    "        relative strengths (second column).\n",
    "    \"\"\"\n",
    "    #from scipy.signal import argrelmax\n",
    "    # histogram of IBIs\n",
    "    bins = histogram[0]\n",
    "    # convert the histogram bin delays to tempi in beats per minute\n",
    "    tempi = 60.0 * fps / histogram[1]\n",
    "    # to get the two dominant tempi, just keep the peaks\n",
    "    # use 'wrap' mode to also get peaks at the borders\n",
    "    #peaks = argrelmax(bins, mode='wrap')[0]\n",
    "    peaks = [np.argmax(tempi)]\n",
    "    # we need more than 1 peak to report multiple tempi\n",
    "    if len(peaks) == 0:\n",
    "        # a flat histogram has no peaks, use the center bin\n",
    "        if len(bins):\n",
    "            ret = np.asarray([tempi[len(bins) // 2], 1.])\n",
    "        else:\n",
    "            # otherwise: no peaks, no tempo\n",
    "            ret = np.asarray([NO_TEMPO, 0.])\n",
    "    elif len(peaks) == 1:\n",
    "        # report only the strongest tempo\n",
    "        ret = np.asarray([tempi[peaks[0]], 1.])\n",
    "    else:\n",
    "        # sort the peaks in descending order of bin heights\n",
    "        sorted_peaks = peaks[np.argsort(bins[peaks])[::-1]]\n",
    "        # normalize their strengths\n",
    "        strengths = bins[sorted_peaks]\n",
    "        strengths /= np.sum(strengths)\n",
    "        # return the tempi and their normalized strengths\n",
    "        ret = np.asarray(list(zip(tempi[sorted_peaks], strengths)))\n",
    "    # return the tempi\n",
    "    return np.atleast_2d(ret)\n"
   ]
  },
  {
   "cell_type": "code",
   "execution_count": 12,
   "metadata": {},
   "outputs": [
    {
     "name": "stdout",
     "output_type": "stream",
     "text": [
      "18681"
     ]
    },
    {
     "ename": "NameError",
     "evalue": "name 'y' is not defined",
     "output_type": "error",
     "traceback": [
      "\u001b[0;31m---------------------------------------------------------------------------\u001b[0m",
      "\u001b[0;31mNameError\u001b[0m                                 Traceback (most recent call last)",
      "\u001b[0;32m<ipython-input-12-1d6c53572a88>\u001b[0m in \u001b[0;36m<module>\u001b[0;34m()\u001b[0m\n\u001b[0;32m----> 1\u001b[0;31m \u001b[0;32mprint\u001b[0m \u001b[0mlen\u001b[0m\u001b[0;34m(\u001b[0m\u001b[0monset_env\u001b[0m\u001b[0;34m)\u001b[0m\u001b[0;34m,\u001b[0m \u001b[0mlen\u001b[0m\u001b[0;34m(\u001b[0m\u001b[0my\u001b[0m\u001b[0;34m)\u001b[0m\u001b[0;34m,\u001b[0m \u001b[0msr\u001b[0m\u001b[0;34m\u001b[0m\u001b[0m\n\u001b[0m\u001b[1;32m      2\u001b[0m \u001b[0mstep_size\u001b[0m \u001b[0;34m=\u001b[0m \u001b[0mint\u001b[0m\u001b[0;34m(\u001b[0m\u001b[0mround\u001b[0m\u001b[0;34m(\u001b[0m\u001b[0mlen\u001b[0m\u001b[0;34m(\u001b[0m\u001b[0my\u001b[0m\u001b[0;34m)\u001b[0m \u001b[0;34m/\u001b[0m \u001b[0mlen\u001b[0m\u001b[0;34m(\u001b[0m\u001b[0monset_env\u001b[0m\u001b[0;34m)\u001b[0m\u001b[0;34m)\u001b[0m\u001b[0;34m)\u001b[0m\u001b[0;34m\u001b[0m\u001b[0m\n\u001b[1;32m      3\u001b[0m \u001b[0mfps\u001b[0m \u001b[0;34m=\u001b[0m \u001b[0mfloat\u001b[0m\u001b[0;34m(\u001b[0m\u001b[0msr\u001b[0m\u001b[0;34m)\u001b[0m \u001b[0;34m/\u001b[0m \u001b[0;36m512\u001b[0m\u001b[0;34m\u001b[0m\u001b[0m\n\u001b[1;32m      4\u001b[0m \u001b[0;32mprint\u001b[0m \u001b[0mfps\u001b[0m\u001b[0;34m,\u001b[0m \u001b[0mstep_size\u001b[0m\u001b[0;34m\u001b[0m\u001b[0m\n\u001b[1;32m      5\u001b[0m \u001b[0mtempi\u001b[0m \u001b[0;34m=\u001b[0m \u001b[0mdetect_tempo\u001b[0m\u001b[0;34m(\u001b[0m\u001b[0mtempogram\u001b[0m\u001b[0;34m,\u001b[0m \u001b[0mfps\u001b[0m\u001b[0;34m)\u001b[0m\u001b[0;34m\u001b[0m\u001b[0m\n",
      "\u001b[0;31mNameError\u001b[0m: name 'y' is not defined"
     ]
    }
   ],
   "source": [
    "print len(onset_env), len(y), sr\n",
    "step_size = int(round(len(y) / len(onset_env)))\n",
    "fps = float(sr) / 512\n",
    "print fps, step_size\n",
    "tempi = detect_tempo(tempogram, fps)\n",
    "print tempi"
   ]
  },
  {
   "cell_type": "code",
   "execution_count": null,
   "metadata": {},
   "outputs": [],
   "source": [
    "tempo_in_frames = tempogram[1][np.argmax(tempogram[0])]\n",
    "tempo_in_samples = tempo_in_frames * 512\n",
    "print tempo_in_samples\n",
    "beats_per_second = float(tempo_in_samples) / sr\n",
    "print beats_per_second\n",
    "beats_per_minute = beats_per_second * 60\n",
    "print beats_per_minute"
   ]
  },
  {
   "cell_type": "code",
   "execution_count": null,
   "metadata": {},
   "outputs": [],
   "source": []
  }
 ],
 "metadata": {
  "kernelspec": {
   "display_name": "Python 2",
   "language": "python",
   "name": "python2"
  },
  "language_info": {
   "codemirror_mode": {
    "name": "ipython",
    "version": 2
   },
   "file_extension": ".py",
   "mimetype": "text/x-python",
   "name": "python",
   "nbconvert_exporter": "python",
   "pygments_lexer": "ipython2",
   "version": "2.7.12"
  }
 },
 "nbformat": 4,
 "nbformat_minor": 2
}
