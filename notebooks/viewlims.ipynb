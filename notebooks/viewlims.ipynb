{
 "cells": [
  {
   "cell_type": "code",
   "execution_count": 1,
   "metadata": {},
   "outputs": [],
   "source": [
    "%matplotlib inline"
   ]
  },
  {
   "cell_type": "markdown",
   "metadata": {},
   "source": [
    "\n",
    "# Viewlims\n",
    "\n",
    "\n",
    "Creates two identical panels.  Zooming in on the right panel will show\n",
    "a rectangle in the first panel, denoting the zoomed region.\n",
    "\n"
   ]
  },
  {
   "cell_type": "code",
   "execution_count": 2,
   "metadata": {},
   "outputs": [
    {
     "data": {
      "image/png": "[encoded data removed]",
      "text/plain": [
       "<matplotlib.figure.Figure at 0x7f6e531768d0>"
      ]
     },
     "metadata": {},
     "output_type": "display_data"
    }
   ],
   "source": [
    "import numpy as np\n",
    "import matplotlib.pyplot as plt\n",
    "from matplotlib.patches import Rectangle\n",
    "\n",
    "\n",
    "# We just subclass Rectangle so that it can be called with an Axes\n",
    "# instance, causing the rectangle to update its shape to match the\n",
    "# bounds of the Axes\n",
    "class UpdatingRect(Rectangle):\n",
    "    def __call__(self, ax):\n",
    "        self.set_bounds(*ax.viewLim.bounds)\n",
    "        ax.figure.canvas.draw_idle()\n",
    "\n",
    "\n",
    "# A class that will regenerate a fractal set as we zoom in, so that you\n",
    "# can actually see the increasing detail.  A box in the left panel will show\n",
    "# the area to which we are zoomed.\n",
    "class MandelbrotDisplay(object):\n",
    "    def __init__(self, h=500, w=500, niter=50, radius=2., power=2):\n",
    "        self.height = h\n",
    "        self.width = w\n",
    "        self.niter = niter\n",
    "        self.radius = radius\n",
    "        self.power = power\n",
    "\n",
    "    def __call__(self, xstart, xend, ystart, yend):\n",
    "        self.x = np.linspace(xstart, xend, self.width)\n",
    "        self.y = np.linspace(ystart, yend, self.height).reshape(-1, 1)\n",
    "        c = self.x + 1.0j * self.y\n",
    "        threshold_time = np.zeros((self.height, self.width))\n",
    "        z = np.zeros(threshold_time.shape, dtype=complex)\n",
    "        mask = np.ones(threshold_time.shape, dtype=bool)\n",
    "        for i in range(self.niter):\n",
    "            z[mask] = z[mask]**self.power + c[mask]\n",
    "            mask = (np.abs(z) < self.radius)\n",
    "            threshold_time += mask\n",
    "        return threshold_time\n",
    "\n",
    "    def ax_update(self, ax):\n",
    "        ax.set_autoscale_on(False)  # Otherwise, infinite loop\n",
    "\n",
    "        # Get the number of points from the number of pixels in the window\n",
    "        dims = ax.patch.get_window_extent().bounds\n",
    "        self.width = int(dims[2] + 0.5)\n",
    "        self.height = int(dims[2] + 0.5)\n",
    "\n",
    "        # Get the range for the new area\n",
    "        xstart, ystart, xdelta, ydelta = ax.viewLim.bounds\n",
    "        xend = xstart + xdelta\n",
    "        yend = ystart + ydelta\n",
    "\n",
    "        # Update the image object with our new data and extent\n",
    "        im = ax.images[-1]\n",
    "        im.set_data(self.__call__(xstart, xend, ystart, yend))\n",
    "        im.set_extent((xstart, xend, ystart, yend))\n",
    "        ax.figure.canvas.draw_idle()\n",
    "\n",
    "md = MandelbrotDisplay()\n",
    "Z = md(-2., 0.5, -1.25, 1.25)\n",
    "\n",
    "fig1, (ax1, ax2) = plt.subplots(1, 2)\n",
    "ax1.imshow(Z, origin='lower', extent=(md.x.min(), md.x.max(), md.y.min(), md.y.max()))\n",
    "ax2.imshow(Z, origin='lower', extent=(md.x.min(), md.x.max(), md.y.min(), md.y.max()))\n",
    "\n",
    "rect = UpdatingRect([0, 0], 0, 0, facecolor='None', edgecolor='black', linewidth=1.0)\n",
    "rect.set_bounds(*ax2.viewLim.bounds)\n",
    "ax1.add_patch(rect)\n",
    "\n",
    "# Connect for changing the view limits\n",
    "ax2.callbacks.connect('xlim_changed', rect)\n",
    "ax2.callbacks.connect('ylim_changed', rect)\n",
    "\n",
    "ax2.callbacks.connect('xlim_changed', md.ax_update)\n",
    "ax2.callbacks.connect('ylim_changed', md.ax_update)\n",
    "ax2.set_title(\"Zoom here\")\n",
    "\n",
    "plt.show()"
   ]
  }
 ],
 "metadata": {
  "kernelspec": {
   "display_name": "Python 2",
   "language": "python",
   "name": "python2"
  },
  "language_info": {
   "codemirror_mode": {
    "name": "ipython",
    "version": 2
   },
   "file_extension": ".py",
   "mimetype": "text/x-python",
   "name": "python",
   "nbconvert_exporter": "python",
   "pygments_lexer": "ipython2",
   "version": "2.7.12"
  }
 },
 "nbformat": 4,
 "nbformat_minor": 1
}
