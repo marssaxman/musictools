{
 "cells": [
  {
   "cell_type": "code",
   "execution_count": null,
   "metadata": {},
   "outputs": [],
   "source": [
    "# This has to go in its own cell or it screws up the defaults we'll set later\n",
    "%matplotlib inline"
   ]
  },
  {
   "cell_type": "code",
   "execution_count": null,
   "metadata": {},
   "outputs": [],
   "source": [
    "import numpy as np\n",
    "from musictoys import audiofile, analysis, signal"
   ]
  },
  {
   "cell_type": "code",
   "execution_count": null,
   "metadata": {},
   "outputs": [],
   "source": [
    "#filedata, filerate = musictoys.audiofile.read(\"audio_files/kronfeld-dreamatic.wav\")\n",
    "#filedata, filerate = musictoys.audiofile.read(\"audio_files/jfb-back_home.wav\")\n",
    "filedata = audiofile.read(\"audio_files/liberty_chaps-get_up_get_down.wav\")\n",
    "clip = analysis.normalize(filedata)"
   ]
  },
  {
   "cell_type": "code",
   "execution_count": null,
   "metadata": {},
   "outputs": [],
   "source": [
    "frame_size = 1024\n",
    "step_size = frame_size / 2\n",
    "step_rate = clip.sample_rate / step_size"
   ]
  },
  {
   "cell_type": "code",
   "execution_count": null,
   "metadata": {},
   "outputs": [],
   "source": [
    "for frame in clip.frames(frame_size=2048):\n",
    "    spec = analysis.fft(frame)\n",
    "    magspec = spec.magnitude()\n",
    "    dbspec = spec.logpower()\n",
    "    print \"zcr=%.3f, mag centroid=%.1f Hz, dB centroid=%.1f Hz\" % (frame.zcr(), magspec.centroid(), dbspec.centroid())"
   ]
  },
  {
   "cell_type": "code",
   "execution_count": null,
   "metadata": {},
   "outputs": [],
   "source": []
  }
 ],
 "metadata": {
  "kernelspec": {
   "display_name": "Python 2",
   "language": "python",
   "name": "python2"
  },
  "language_info": {
   "codemirror_mode": {
    "name": "ipython",
    "version": 2
   },
   "file_extension": ".py",
   "mimetype": "text/x-python",
   "name": "python",
   "nbconvert_exporter": "python",
   "pygments_lexer": "ipython2",
   "version": "2.7.12"
  }
 },
 "nbformat": 4,
 "nbformat_minor": 2
}
