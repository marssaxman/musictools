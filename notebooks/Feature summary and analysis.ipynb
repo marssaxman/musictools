{
 "cells": [
  {
   "cell_type": "code",
   "execution_count": null,
   "metadata": {},
   "outputs": [],
   "source": [
    "rcParams['figure.figsize'] = (16, 4) #wide graphs by default"
   ]
  },
  {
   "cell_type": "markdown",
   "metadata": {},
   "source": [
    "# Sumarization techniques"
   ]
  },
  {
   "cell_type": "markdown",
   "metadata": {},
   "source": [
    "## Pitch histogram and chromagram"
   ]
  },
  {
   "cell_type": "markdown",
   "metadata": {},
   "source": [
    "Tzanetakis, G., Ermolinskyi, A., & Cook, P. (2003). Pitch histograms in audio and symbolic music information retrieval. Journal of New Music Research. Retrieved from http://www.tandfonline.com/doi/abs/10.1076/jnmr.32.2.143.16743\n",
    "\n",
    "The accuracy and relevance of this measure depends on the pitch detection algorithm used.\n",
    "\n",
    "The above article proposes using an enhanced version of the autocorrelation method that can eliminate octave-shift errors."
   ]
  },
  {
   "cell_type": "code",
   "execution_count": null,
   "metadata": {},
   "outputs": [],
   "source": [
    "from essentia.standard import *"
   ]
  },
  {
   "cell_type": "code",
   "execution_count": null,
   "metadata": {},
   "outputs": [],
   "source": [
    "loader = MonoLoader(filename='sources/Bob Marley - Buffalo Soldier.mp3')\n",
    "audio = loader()"
   ]
  },
  {
   "cell_type": "code",
   "execution_count": null,
   "metadata": {},
   "outputs": [],
   "source": [
    "def windowed_f0(input_sig, win_size, hop=None, sr=1.0, maxlags=None, fmax=4000.0):\n",
    "    if not hop:\n",
    "        hop = win_size/2\n",
    "    if not maxlags:\n",
    "        maxlags = win_size/4\n",
    "        \n",
    "    L = float(sr)/fmax\n",
    "    window_start = arange(0, len(input_sig) - win_size, hop)\n",
    "    acorrfs = []\n",
    "    for start in window_start:\n",
    "        w = input_sig[start: start+win_size]\n",
    "        lags, acorr_inst, lines, line = acorr(w, maxlags=maxlags)\n",
    "        acorrfs.append(acorr_inst)\n",
    "        \n",
    "    times = (window_start + win_size/2)/float(sr)\n",
    "    apeaks = argmax(array(acorrfs)[:,:maxlags - round(L)], axis=1)\n",
    "    f0 = float(sr)/(maxlags - apeaks)\n",
    "    clf()\n",
    "    return times, f0"
   ]
  },
  {
   "cell_type": "code",
   "execution_count": null,
   "metadata": {},
   "outputs": [],
   "source": [
    "times, f0 = windowed_f0(audio[:441000], 2048, 1024, 44100, 512)\n",
    "plot(times, f0)"
   ]
  },
  {
   "cell_type": "code",
   "execution_count": null,
   "metadata": {},
   "outputs": [],
   "source": [
    "def midi2Hz(midinote, tuning=440.0):\n",
    "    return tuning * (2**((midinote - 69)/12.0))\n",
    "\n",
    "num_freqs = 8*12 # eight octaves from C0\n",
    "quant_freqs = [midi2Hz(i + 24) for i in range(num_freqs)]\n",
    "\n",
    "def quantize_freq(freq_list, quant_freqs, quant_offset=24):\n",
    "    quantized = zeros_like(freq_list)\n",
    "    for i in range(len(freq_list)):\n",
    "        arg = argwhere(array(quant_freqs) > freq_list[i])\n",
    "        if arg.size == 0 or arg[0] == 0:\n",
    "            quantized[i] = 0\n",
    "        elif quant_freqs[arg[0]] - freq_list[i] > freq_list[i] - quant_freqs[arg[0] - 1]:\n",
    "            quantized[i] = arg[0] - 1\n",
    "        else:\n",
    "            quantized[i] = arg[0]\n",
    "    return quantized + quant_offset\n",
    "\n",
    "f0_q = quantize_freq(f0, quant_freqs)\n",
    "plot(f0_q)"
   ]
  },
  {
   "cell_type": "code",
   "execution_count": null,
   "metadata": {},
   "outputs": [],
   "source": [
    "hist(f0_q, arange(40, 100));"
   ]
  },
  {
   "cell_type": "code",
   "execution_count": null,
   "metadata": {},
   "outputs": [],
   "source": [
    "pitches = []\n",
    "pitchconfs = []\n",
    "\n",
    "w = Windowing(type = 'hann')\n",
    "spectrum = Spectrum()  # FFT() would return the complex FFT, here we just want the magnitude spectrum\n",
    "pitchyin = PitchYinFFT()\n",
    "\n",
    "for frame in FrameGenerator(audio, frameSize = 2048, hopSize = 1024):\n",
    "    pitch, pconfidence = pitchyin(spectrum(w(frame)))\n",
    "    pitches.append(pitch)\n",
    "    pitchconfs.append(pconfidence)"
   ]
  },
  {
   "cell_type": "code",
   "execution_count": null,
   "metadata": {},
   "outputs": [],
   "source": [
    "plot(pitches)"
   ]
  },
  {
   "cell_type": "code",
   "execution_count": null,
   "metadata": {},
   "outputs": [],
   "source": [
    "plot(pitchconfs)"
   ]
  },
  {
   "cell_type": "code",
   "execution_count": null,
   "metadata": {},
   "outputs": [],
   "source": [
    "plot(pitches[1000:1100])\n",
    "twinx()\n",
    "plot(pitchconfs[1000:1100], 'g')"
   ]
  },
  {
   "cell_type": "code",
   "execution_count": null,
   "metadata": {},
   "outputs": [],
   "source": [
    "f0_q = quantize_freq(pitches, quant_freqs)\n",
    "plot(f0_q)"
   ]
  },
  {
   "cell_type": "code",
   "execution_count": null,
   "metadata": {},
   "outputs": [],
   "source": [
    "hist(f0_q, arange(40, 100));"
   ]
  },
  {
   "cell_type": "code",
   "execution_count": null,
   "metadata": {},
   "outputs": [],
   "source": [
    "loader = essentia.standard.MonoLoader(filename = 'sources/Stevie Wonder - Superstition.mp3')\n",
    "audio = loader()\n",
    "\n",
    "f0 = []\n",
    "pitchconfs = []\n",
    "\n",
    "for frame in FrameGenerator(audio, frameSize = 2048, hopSize = 1024):\n",
    "    pitch, pconfidence = pitchyin(spectrum(w(frame)))\n",
    "    f0.append(pitch)\n",
    "    pitchconfs.append(pconfidence)"
   ]
  },
  {
   "cell_type": "code",
   "execution_count": null,
   "metadata": {},
   "outputs": [],
   "source": [
    "f0_q = quantize_freq(f0, quant_freqs)\n",
    "n_wonder, bins, patches = hist(f0_q, arange(40, 101));"
   ]
  },
  {
   "cell_type": "code",
   "execution_count": null,
   "metadata": {},
   "outputs": [],
   "source": [
    "loader = essentia.standard.MonoLoader(filename = 'sources/Bob Dylan - Canadee-I-O.mp3')\n",
    "dylan = loader()\n",
    "\n",
    "f0 = []\n",
    "pitchconfs = []\n",
    "\n",
    "for frame in FrameGenerator(dylan, frameSize = 2048, hopSize = 1024):\n",
    "    pitch, pconfidence = pitchyin(spectrum(w(frame)))\n",
    "    f0.append(pitch)\n",
    "    pitchconfs.append(pconfidence)\n",
    "\n",
    "f0_q = quantize_freq(f0, quant_freqs)\n",
    "n_dylan, bins, patches = hist(f0_q, arange(40, 101));"
   ]
  },
  {
   "cell_type": "code",
   "execution_count": null,
   "metadata": {},
   "outputs": [],
   "source": [
    "loader = essentia.standard.MonoLoader(filename = 'sources/Bob Marley - Buffalo Soldier.mp3')\n",
    "marley = loader()\n",
    "\n",
    "f0 = []\n",
    "pitchconfs = []\n",
    "\n",
    "for frame in FrameGenerator(marley, frameSize = 2048, hopSize = 1024):\n",
    "    pitch, pconfidence = pitchyin(spectrum(w(frame)))\n",
    "    f0.append(pitch)\n",
    "    pitchconfs.append(pconfidence)\n",
    "\n",
    "f0_q = quantize_freq(f0, quant_freqs)\n",
    "n_marley, bins, patches = hist(f0_q, arange(40, 101));\n"
   ]
  },
  {
   "cell_type": "code",
   "execution_count": null,
   "metadata": {},
   "outputs": [],
   "source": [
    "loader = essentia.standard.MonoLoader(filename = 'sources/Palestrina-Gloria.mp3')\n",
    "palestrina = loader()\n",
    "\n",
    "f0 = []\n",
    "pitchconfs = []\n",
    "\n",
    "for frame in FrameGenerator(palestrina, frameSize = 2048, hopSize = 1024):\n",
    "    pitch, pconfidence = pitchyin(spectrum(w(frame)))\n",
    "    f0.append(pitch)\n",
    "    pitchconfs.append(pconfidence)\n",
    "\n",
    "f0_q = quantize_freq(f0, quant_freqs)\n",
    "n_palestrina, bins, patches = hist(f0_q, arange(40, 101));"
   ]
  },
  {
   "cell_type": "code",
   "execution_count": null,
   "metadata": {},
   "outputs": [],
   "source": [
    "plot(pitchconfs)"
   ]
  },
  {
   "cell_type": "markdown",
   "metadata": {},
   "source": [
    "### Folded pitch histogram"
   ]
  },
  {
   "cell_type": "code",
   "execution_count": null,
   "metadata": {},
   "outputs": [],
   "source": [
    "pclasses = n_wonder.reshape(5, 12).sum(axis=0)"
   ]
  },
  {
   "cell_type": "code",
   "execution_count": null,
   "metadata": {},
   "outputs": [],
   "source": [
    "bar(arange(12), pclasses)"
   ]
  },
  {
   "cell_type": "markdown",
   "metadata": {},
   "source": [
    "Folded pitch histograms are generally organized by fifths (C -> G -> D ... etc.)"
   ]
  },
  {
   "cell_type": "code",
   "execution_count": null,
   "metadata": {},
   "outputs": [],
   "source": [
    "pclasses = n_wonder.reshape(5, 12).sum(axis=0)\n",
    "foldedpcs = []\n",
    "pcs = []\n",
    "for i in range(12):\n",
    "    pc = (i * 5)%12\n",
    "    foldedpcs.append(pclasses[pc])\n",
    "    pcs.append(pc)\n",
    "    \n",
    "bar(arange(12), foldedpcs)\n",
    "xticks(arange(12) + 0.5, pcs);\n",
    "title('Folded pitch histogram (Superstition)')\n",
    "    "
   ]
  },
  {
   "cell_type": "code",
   "execution_count": null,
   "metadata": {},
   "outputs": [],
   "source": [
    "pclasses = n_dylan.reshape(5, 12).sum(axis=0)\n",
    "foldedpcs = []\n",
    "pcs = []\n",
    "for i in range(12):\n",
    "    pc = (i * 5)%12\n",
    "    foldedpcs.append(pclasses[pc])\n",
    "    pcs.append(pc)\n",
    "    \n",
    "bar(arange(12), foldedpcs)\n",
    "xticks(arange(12) + 0.5, pcs);\n",
    "title('Folded pitch histogram (Dylan)')\n"
   ]
  },
  {
   "cell_type": "code",
   "execution_count": null,
   "metadata": {},
   "outputs": [],
   "source": [
    "pclasses = n_marley.reshape(5, 12).sum(axis=0)\n",
    "foldedpcs = []\n",
    "pcs = []\n",
    "for i in range(12):\n",
    "    pc = (i * 5)%12\n",
    "    foldedpcs.append(pclasses[pc])\n",
    "    pcs.append(pc)\n",
    "    \n",
    "bar(arange(12), foldedpcs)\n",
    "xticks(arange(12) + 0.5, pcs);\n",
    "title('Folded pitch histogram (Marley)')"
   ]
  },
  {
   "cell_type": "code",
   "execution_count": null,
   "metadata": {},
   "outputs": [],
   "source": [
    "pclasses = n_palestrina.reshape(5, 12).sum(axis=0)\n",
    "foldedpcs = []\n",
    "pcs = []\n",
    "for i in range(12):\n",
    "    pc = (i * 5)%12\n",
    "    foldedpcs.append(pclasses[pc])\n",
    "    pcs.append(pc)\n",
    "    \n",
    "bar(arange(12), foldedpcs)\n",
    "xticks(arange(12) + 0.5, pcs);\n",
    "title('Folded pitch histogram (Palestrina)')"
   ]
  },
  {
   "cell_type": "markdown",
   "metadata": {},
   "source": [
    "## Chromagram"
   ]
  },
  {
   "cell_type": "markdown",
   "metadata": {},
   "source": [
    "Similar to the pitch histogram, but the notes are counted directly from the FFT bins."
   ]
  },
  {
   "cell_type": "markdown",
   "metadata": {},
   "source": [
    "https://github.com/bmcfee/librosa"
   ]
  },
  {
   "cell_type": "code",
   "execution_count": null,
   "metadata": {},
   "outputs": [],
   "source": [
    "loader = MonoLoader(filename='sources/Stevie Wonder - Superstition.mp3')\n",
    "superstition = loader()"
   ]
  },
  {
   "cell_type": "code",
   "execution_count": null,
   "metadata": {},
   "outputs": [],
   "source": [
    "import librosa\n",
    "\n",
    "cm = librosa.feature.chromagram(superstition, 44100, hop_length=1024)\n",
    "librosa.display.specshow(cm, sr=44100, hop_length=1024, x_axis='time', y_axis='chroma', vmin=0, vmax=1)\n",
    "\n",
    "title('Chromagram')\n",
    "colorbar()\n",
    "\n",
    "tight_layout()"
   ]
  },
  {
   "cell_type": "code",
   "execution_count": null,
   "metadata": {},
   "outputs": [],
   "source": [
    "bar(arange(12), sum(cm, axis=1))"
   ]
  },
  {
   "cell_type": "code",
   "execution_count": null,
   "metadata": {},
   "outputs": [],
   "source": [
    "cm.shape"
   ]
  },
  {
   "cell_type": "code",
   "execution_count": null,
   "metadata": {},
   "outputs": [],
   "source": [
    "cm = sum(cm, axis=1)\n",
    "cm = r_[cm[3:],cm[:3]]\n",
    "foldedpcs = []\n",
    "pcs = []\n",
    "for i in range(12):\n",
    "    pc = (i * 5)%12\n",
    "    foldedpcs.append(cm[pc])\n",
    "    pcs.append(pc)\n",
    "\n",
    "bar(arange(12), cm)\n",
    "xticks(arange(12) + 0.5, pcs);"
   ]
  },
  {
   "cell_type": "code",
   "execution_count": null,
   "metadata": {},
   "outputs": [],
   "source": [
    "pclasses = n_wonder.reshape(5, 12).sum(axis=0)\n",
    "foldedpcs = []\n",
    "pcs = []\n",
    "for i in range(12):\n",
    "    pc = (i * 5)%12\n",
    "    foldedpcs.append(pclasses[pc])\n",
    "    pcs.append(pc)\n",
    "bar(arange(12), foldedpcs)\n",
    "xticks(arange(12) + 0.5, pcs);\n",
    "title('Folded pitch histogram (Superstition)')"
   ]
  },
  {
   "cell_type": "code",
   "execution_count": null,
   "metadata": {},
   "outputs": [],
   "source": [
    "cm = librosa.feature.chromagram(palestrina, 44100, hop_length=1024)\n",
    "librosa.display.specshow(cm, sr=44100, hop_length=1024, x_axis='time', y_axis='chroma', vmin=0, vmax=1)\n",
    "\n",
    "title('Chromagram')\n",
    "colorbar()\n",
    "\n",
    "tight_layout()"
   ]
  },
  {
   "cell_type": "code",
   "execution_count": null,
   "metadata": {},
   "outputs": [],
   "source": [
    "cm = sum(cm, axis=1)\n",
    "cm = r_[cm[3:],cm[:3]]\n",
    "foldedpcs = []\n",
    "pcs = []\n",
    "for i in range(12):\n",
    "    pc = (i * 5)%12\n",
    "    foldedpcs.append(cm[pc])\n",
    "    pcs.append(pc)\n",
    "\n",
    "bar(arange(12), cm)\n",
    "xticks(arange(12) + 0.5, pcs);"
   ]
  },
  {
   "cell_type": "code",
   "execution_count": null,
   "metadata": {},
   "outputs": [],
   "source": [
    "pclasses = n_palestrina.reshape(5, 12).sum(axis=0)\n",
    "foldedpcs = []\n",
    "pcs = []\n",
    "for i in range(12):\n",
    "    pc = (i * 5)%12\n",
    "    foldedpcs.append(pclasses[pc])\n",
    "    pcs.append(pc)\n",
    "bar(arange(12), foldedpcs)\n",
    "xticks(arange(12) + 0.5, pcs);\n",
    "title('Folded pitch histogram (Palestrina)')"
   ]
  },
  {
   "cell_type": "code",
   "execution_count": null,
   "metadata": {},
   "outputs": [],
   "source": [
    "cm = librosa.feature.chromagram(dylan, 44100, hop_length=1024)\n",
    "librosa.display.specshow(cm, sr=44100, hop_length=1024, x_axis='time', y_axis='chroma', vmin=0, vmax=1)\n",
    "\n",
    "title('Chromagram')\n",
    "colorbar()\n",
    "\n",
    "tight_layout()"
   ]
  },
  {
   "cell_type": "code",
   "execution_count": null,
   "metadata": {},
   "outputs": [],
   "source": [
    "bar(arange(12), sum(cm, axis=1))"
   ]
  },
  {
   "cell_type": "code",
   "execution_count": null,
   "metadata": {},
   "outputs": [],
   "source": [
    "cm = sum(cm, axis=1)\n",
    "cm = r_[cm[3:],cm[:3]]\n",
    "foldedpcs = []\n",
    "pcs = []\n",
    "for i in range(12):\n",
    "    pc = (i * 5)%12\n",
    "    foldedpcs.append(cm[pc])\n",
    "    pcs.append(pc)\n",
    "\n",
    "bar(arange(12), cm)\n",
    "xticks(arange(12) + 0.5, pcs);"
   ]
  },
  {
   "cell_type": "code",
   "execution_count": null,
   "metadata": {},
   "outputs": [],
   "source": [
    "pclasses = n_dylan.reshape(5, 12).sum(axis=0)\n",
    "foldedpcs = []\n",
    "pcs = []\n",
    "for i in range(12):\n",
    "    pc = (i * 5)%12\n",
    "    foldedpcs.append(pclasses[pc])\n",
    "    pcs.append(pc)\n",
    "bar(arange(12), foldedpcs)\n",
    "xticks(arange(12) + 0.5, pcs);\n",
    "title('Folded pitch histogram (Dylan)')"
   ]
  },
  {
   "cell_type": "markdown",
   "metadata": {},
   "source": [
    "# Self-similarity matrix"
   ]
  },
  {
   "cell_type": "markdown",
   "metadata": {},
   "source": [
    "http://en.wikipedia.org/wiki/Self-similarity_matrix"
   ]
  },
  {
   "cell_type": "code",
   "execution_count": null,
   "metadata": {},
   "outputs": [],
   "source": [
    "def windowed_rms(input_sig, win_size, hop=None, sr=1.0):\n",
    "    if not hop:\n",
    "        hop = winsize/2\n",
    "    rms = []\n",
    "    window_start = arange(0, len(input_sig) - win_size, hop)\n",
    "    \n",
    "    for start in window_start:\n",
    "        w = input_sig[start: start+win_size].astype(float)\n",
    "        rms_inst = sqrt(mean(w**2))\n",
    "        rms.append(rms_inst)\n",
    "    times = (window_start + win_size/2)/float(sr)\n",
    "    return times, rms"
   ]
  },
  {
   "cell_type": "code",
   "execution_count": null,
   "metadata": {},
   "outputs": [],
   "source": [
    "times, super_rms = windowed_rms(superstition, 4096, 512, 44100)\n",
    "plot(times, super_rms)"
   ]
  },
  {
   "cell_type": "code",
   "execution_count": null,
   "metadata": {},
   "outputs": [],
   "source": [
    "from scipy.signal import decimate\n",
    "\n",
    "rms_dec = decimate(super_rms, 3)\n",
    "plot(rms_dec)\n"
   ]
  },
  {
   "cell_type": "code",
   "execution_count": null,
   "metadata": {},
   "outputs": [],
   "source": [
    "plot(rms_dec[:100])"
   ]
  },
  {
   "cell_type": "code",
   "execution_count": null,
   "metadata": {},
   "outputs": [],
   "source": [
    "ss_win_size = 200\n",
    "ss_hop = 10\n",
    "\n",
    "in_sig = rms_dec\n",
    "\n",
    "win_start = arange(0, len(in_sig)- ss_win_size, ss_hop)\n",
    "\n",
    "ssm = []\n",
    "\n",
    "for starti in win_start:\n",
    "    for startj in win_start:\n",
    "        wini = in_sig[starti: starti+ss_win_size]\n",
    "        winj = in_sig[startj: startj+ss_win_size]\n",
    "        ssm.append(corrcoef(wini, winj)[0, 1])\n",
    "\n",
    "ssm = array(ssm).reshape(len(win_start), len(win_start))"
   ]
  },
  {
   "cell_type": "code",
   "execution_count": null,
   "metadata": {},
   "outputs": [],
   "source": [
    "ssm.shape"
   ]
  },
  {
   "cell_type": "code",
   "execution_count": null,
   "metadata": {},
   "outputs": [],
   "source": [
    "imshow(ssm, cmap='gray')\n",
    "\n",
    "#xticks(linspace(0, 754, 8),linspace(0, times[-1], 8).astype(int))\n",
    "#ylim((0, 44))\n",
    "gcf().set_figheight(8)"
   ]
  },
  {
   "cell_type": "code",
   "execution_count": null,
   "metadata": {},
   "outputs": [],
   "source": [
    "ss_win_size = 200\n",
    "ss_hop = 10\n",
    "\n",
    "times, super_rms = windowed_rms(dylan, 4096, 512, 44100)\n",
    "rms_dec = decimate(super_rms, 3)\n",
    "in_sig = rms_dec\n",
    "\n",
    "win_start = arange(0, len(in_sig)- ss_win_size, ss_hop)\n",
    "\n",
    "ssm = []\n",
    "\n",
    "for starti in win_start:\n",
    "    for startj in win_start:\n",
    "        wini = in_sig[starti: starti+ss_win_size]\n",
    "        winj = in_sig[startj: startj+ss_win_size]\n",
    "        ssm.append(corrcoef(wini, winj)[0, 1])"
   ]
  },
  {
   "cell_type": "code",
   "execution_count": null,
   "metadata": {},
   "outputs": [],
   "source": [
    "ssm = array(ssm).reshape(len(win_start), len(win_start))\n",
    "imshow(ssm, cmap='gray')\n",
    "\n",
    "#xticks(linspace(0, ssm.shape[0], 8),linspace(0, times[-1], 8).astype(int))\n",
    "#ylim((0, 44))\n",
    "gcf().set_figheight(8)"
   ]
  },
  {
   "cell_type": "code",
   "execution_count": null,
   "metadata": {},
   "outputs": [],
   "source": [
    "ss_win_size = 200\n",
    "ss_hop = 10\n",
    "\n",
    "times, super_rms = windowed_rms(palestrina, 4096, 512, 44100)\n",
    "rms_dec = decimate(super_rms, 3)\n",
    "in_sig = rms_dec\n",
    "\n",
    "win_start = arange(0, len(in_sig)- ss_win_size, ss_hop)\n",
    "\n",
    "ssm = []\n",
    "\n",
    "for starti in win_start:\n",
    "    for startj in win_start:\n",
    "        wini = in_sig[starti: starti+ss_win_size]\n",
    "        winj = in_sig[startj: startj+ss_win_size]\n",
    "        ssm.append(corrcoef(wini, winj)[0, 1])"
   ]
  },
  {
   "cell_type": "code",
   "execution_count": null,
   "metadata": {},
   "outputs": [],
   "source": [
    "ssm = array(ssm).reshape(len(win_start), len(win_start))\n",
    "imshow(ssm, cmap='gray')\n",
    "\n",
    "xticks(linspace(0, ssm.shape[0], 8),linspace(0, times[-1], 8).astype(int))\n",
    "#ylim((0, 44))\n",
    "gcf().set_figheight(8)"
   ]
  },
  {
   "cell_type": "markdown",
   "metadata": {},
   "source": [
    "## Self-similarity of MFCCs"
   ]
  },
  {
   "cell_type": "markdown",
   "metadata": {},
   "source": [
    "Self-similarity matrices can be applied to any feature.\n",
    "\n",
    "Foote, J. (1999). Visualizing music and audio using self-similarity. Proceedings of the Seventh ACM International Conference on Multimedia (Part 1) - MULTIMEDIA ’99, 77–80. doi:10.1145/319463.319472"
   ]
  },
  {
   "cell_type": "code",
   "execution_count": null,
   "metadata": {},
   "outputs": [],
   "source": [
    "loader = MonoLoader(filename = 'sources/Dire Straits - Walk of life.mp3')\n",
    "dire = loader()"
   ]
  },
  {
   "cell_type": "code",
   "execution_count": null,
   "metadata": {},
   "outputs": [],
   "source": [
    "mfcc = MFCC()\n",
    "\n",
    "help(MFCC)"
   ]
  },
  {
   "cell_type": "code",
   "execution_count": null,
   "metadata": {},
   "outputs": [],
   "source": [
    "w = Windowing(type = 'hann')\n",
    "spectrum = Spectrum()  # FFT() would return the complex FFT, here we just want the magnitude spectrum\n",
    "\n",
    "frame = dire[5*44100 : 5*44100 + 1024]\n",
    "spec = spectrum(w(frame))\n",
    "\n",
    "plot(spec)"
   ]
  },
  {
   "cell_type": "code",
   "execution_count": null,
   "metadata": {},
   "outputs": [],
   "source": [
    "mfccs = []\n",
    "\n",
    "for frame in FrameGenerator(dire, frameSize = 1024, hopSize = 512):\n",
    "    mfcc_bands, mfcc_coeffs = mfcc(spectrum(w(frame)))\n",
    "    mfccs.append(mfcc_coeffs)"
   ]
  },
  {
   "cell_type": "code",
   "execution_count": null,
   "metadata": {},
   "outputs": [],
   "source": [
    "mfccs = array(mfccs).T\n",
    "imshow(mfccs[1:,:], aspect='auto')"
   ]
  },
  {
   "cell_type": "markdown",
   "metadata": {},
   "source": [
    "### Essentia Streaming mode"
   ]
  },
  {
   "cell_type": "code",
   "execution_count": null,
   "metadata": {},
   "outputs": [],
   "source": [
    "from essentia.streaming import *\n",
    "\n",
    "# This will overwrite the previous \"standard\" mode imports!"
   ]
  },
  {
   "cell_type": "markdown",
   "metadata": {},
   "source": [
    "Starts the same way:"
   ]
  },
  {
   "cell_type": "code",
   "execution_count": null,
   "metadata": {},
   "outputs": [],
   "source": [
    "loader = MonoLoader(filename = 'sources/Dire Straits - Walk of life.mp3')\n",
    "frameCutter = FrameCutter(frameSize = 1024, hopSize = 512)\n",
    "w = Windowing(type = 'hann')\n",
    "spec = Spectrum()\n",
    "mfcc = MFCC()"
   ]
  },
  {
   "cell_type": "markdown",
   "metadata": {},
   "source": [
    "But then things are \"connected\" in a graph"
   ]
  },
  {
   "cell_type": "code",
   "execution_count": null,
   "metadata": {},
   "outputs": [],
   "source": [
    "loader.audio >> frameCutter.signal\n",
    "frameCutter.frame >> w.frame >> spec.frame\n",
    "spec.spectrum >> mfcc.spectrum"
   ]
  },
  {
   "cell_type": "markdown",
   "metadata": {},
   "source": [
    "And then run:"
   ]
  },
  {
   "cell_type": "code",
   "execution_count": null,
   "metadata": {},
   "outputs": [],
   "source": [
    "essentia.run(loader)"
   ]
  },
  {
   "cell_type": "markdown",
   "metadata": {},
   "source": [
    "Ooops! Must remember to connect outputs too!"
   ]
  },
  {
   "cell_type": "code",
   "execution_count": null,
   "metadata": {},
   "outputs": [],
   "source": [
    "pool = essentia.Pool()\n",
    "\n",
    "mfcc.bands >> (pool, 'lowlevel.mfcc_bands')\n",
    "mfcc.mfcc >> (pool, 'lowlevel.mfcc')"
   ]
  },
  {
   "cell_type": "code",
   "execution_count": null,
   "metadata": {},
   "outputs": [],
   "source": [
    "essentia.run(loader)"
   ]
  },
  {
   "cell_type": "code",
   "execution_count": null,
   "metadata": {},
   "outputs": [],
   "source": [
    "print 'Pool contains %d frames of MFCCs' % len(pool['lowlevel.mfcc'])"
   ]
  },
  {
   "cell_type": "code",
   "execution_count": null,
   "metadata": {},
   "outputs": [],
   "source": [
    "imshow(pool['lowlevel.mfcc'].T[1:,:], aspect = 'auto')\n",
    "figure()\n",
    "imshow(pool['lowlevel.mfcc_bands'].T, aspect = 'auto', interpolation = 'nearest')"
   ]
  },
  {
   "cell_type": "markdown",
   "metadata": {},
   "source": [
    "Graphs can be reconfigured;"
   ]
  },
  {
   "cell_type": "code",
   "execution_count": null,
   "metadata": {},
   "outputs": [],
   "source": [
    "mfcc.mfcc.disconnect((pool, 'lowlevel.mfcc'))\n",
    "\n",
    "fileout = FileOutput(filename = 'mfccframes.txt')\n",
    "\n",
    "mfcc.mfcc >> fileout\n",
    "\n",
    "# reset the network otherwise the loader in particular will not do anything useful\n",
    "essentia.reset(loader)\n",
    "\n",
    "# and rerun it!\n",
    "essentia.run(loader)"
   ]
  },
  {
   "cell_type": "code",
   "execution_count": null,
   "metadata": {},
   "outputs": [],
   "source": [
    "mfcc_coefs = pool['lowlevel.mfcc'][:3000,1:]\n",
    "\n",
    "mfcc_coefs.shape"
   ]
  },
  {
   "cell_type": "code",
   "execution_count": null,
   "metadata": {},
   "outputs": [],
   "source": [
    "ssm = []\n",
    "\n",
    "for mfcc_i in mfcc_coefs:\n",
    "    for mfcc_j in mfcc_coefs:\n",
    "        cc = sum(mfcc_i * mfcc_j)\n",
    "        ssm.append(cc)\n",
    "\n",
    "ssm = array(ssm).reshape(len(mfcc_coefs), len(mfcc_coefs))\n",
    "imshow(ssm)"
   ]
  },
  {
   "cell_type": "code",
   "execution_count": null,
   "metadata": {},
   "outputs": [],
   "source": [
    "ssm = array(ssm).reshape(len(mfcc_coefs), len(mfcc_coefs))\n",
    "imshow(ssm[:3000, :3000], cmap='gray', interpolation='nearest')"
   ]
  },
  {
   "cell_type": "code",
   "execution_count": null,
   "metadata": {},
   "outputs": [],
   "source": [
    "loader = MonoLoader(filename = 'sources/Bob Marley - Buffalo Soldier.mp3')\n",
    "frameCutter = FrameCutter(frameSize = 1024, hopSize = 512)\n",
    "w = Windowing(type = 'hann')\n",
    "spec = Spectrum()\n",
    "mfcc = MFCC()\n",
    "pool = essentia.Pool()\n",
    "\n",
    "loader.audio >> frameCutter.signal\n",
    "frameCutter.frame >> w.frame >> spec.frame\n",
    "spec.spectrum >> mfcc.spectrum\n",
    "mfcc.bands >> (pool, 'lowlevel.mfcc_bands')\n",
    "mfcc.mfcc >> (pool, 'lowlevel.mfcc')\n",
    "essentia.run(loader)\n",
    "\n",
    "mfcc_coefs = pool['lowlevel.mfcc'][:3000,1:]\n",
    "\n",
    "ssm = []\n",
    "\n",
    "for mfcc_i in mfcc_coefs:\n",
    "    for mfcc_j in mfcc_coefs:\n",
    "        cc = sum(mfcc_i * mfcc_j)\n",
    "        ssm.append(cc)\n",
    "\n",
    "ssm = array(ssm).reshape(len(mfcc_coefs), len(mfcc_coefs))\n",
    "imshow(ssm[:3000, :3000], cmap='gray', interpolation='nearest')"
   ]
  },
  {
   "cell_type": "code",
   "execution_count": null,
   "metadata": {},
   "outputs": [],
   "source": [
    "loader = MonoLoader(filename = 'sources/Messiaen-Turangalila4.mp3')\n",
    "frameCutter = FrameCutter(frameSize = 1024, hopSize = 512)\n",
    "w = Windowing(type = 'hann')\n",
    "spec = Spectrum()\n",
    "mfcc = MFCC()\n",
    "pool = essentia.Pool()\n",
    "\n",
    "loader.audio >> frameCutter.signal\n",
    "frameCutter.frame >> w.frame >> spec.frame\n",
    "spec.spectrum >> mfcc.spectrum\n",
    "mfcc.bands >> (pool, 'lowlevel.mfcc_bands')\n",
    "mfcc.mfcc >> (pool, 'lowlevel.mfcc')\n",
    "essentia.run(loader)\n",
    "\n",
    "mfcc_coefs = pool['lowlevel.mfcc'][:3000,1:]\n",
    "\n",
    "ssm = []\n",
    "\n",
    "for mfcc_i in mfcc_coefs:\n",
    "    for mfcc_j in mfcc_coefs:\n",
    "        cc = sum(mfcc_i * mfcc_j)\n",
    "        ssm.append(cc)\n",
    "\n",
    "ssm = array(ssm).reshape(len(mfcc_coefs), len(mfcc_coefs))\n",
    "imshow(ssm[:3000, :3000], cmap='gray', interpolation='nearest')"
   ]
  },
  {
   "cell_type": "markdown",
   "metadata": {},
   "source": [
    "# Temporal summarization and Texture Window"
   ]
  },
  {
   "cell_type": "code",
   "execution_count": null,
   "metadata": {},
   "outputs": [],
   "source": [
    "from essentia import *\n",
    "from essentia.standard import *"
   ]
  },
  {
   "cell_type": "code",
   "execution_count": null,
   "metadata": {},
   "outputs": [],
   "source": [
    "filename = 'sources/Isaac Hayes - Out Of The Ghetto.mp3'\n",
    "audio = MonoLoader(filename = filename)()\n",
    "\n",
    "# create the pool and the necessary algorithms\n",
    "pool = Pool()\n",
    "w = Windowing()\n",
    "spec = Spectrum()\n",
    "centroid = Centroid()\n",
    "\n",
    "# compute the centroid for all frames in our audio and add it to the pool\n",
    "for frame in FrameGenerator(audio, frameSize = 1024, hopSize = 512):\n",
    "    c = centroid(spec(w(frame))) * 44100/2\n",
    "    pool.add('lowlevel.centroid', c)\n",
    "\n",
    "aggrpool = PoolAggregator(defaultStats = [ 'mean', 'var' ])(pool)\n"
   ]
  },
  {
   "cell_type": "code",
   "execution_count": null,
   "metadata": {},
   "outputs": [],
   "source": [
    "aggrpool.descriptorNames()"
   ]
  },
  {
   "cell_type": "code",
   "execution_count": null,
   "metadata": {},
   "outputs": [],
   "source": [
    "aggrpool['lowlevel.centroid.mean']"
   ]
  },
  {
   "cell_type": "code",
   "execution_count": null,
   "metadata": {},
   "outputs": [],
   "source": [
    "aggrpool['lowlevel.centroid.var']"
   ]
  },
  {
   "cell_type": "code",
   "execution_count": null,
   "metadata": {},
   "outputs": [],
   "source": [
    "sqrt(_)"
   ]
  },
  {
   "cell_type": "markdown",
   "metadata": {},
   "source": [
    "### Texture Window"
   ]
  },
  {
   "cell_type": "markdown",
   "metadata": {},
   "source": [
    "Proposed by Tzanetakis and Cook to model the time needed to identify higher level features (e.g. identify instruments or genres)"
   ]
  },
  {
   "cell_type": "code",
   "execution_count": null,
   "metadata": {},
   "outputs": [],
   "source": [
    "centroid = pool['lowlevel.centroid']\n",
    "plot(centroid)"
   ]
  },
  {
   "cell_type": "code",
   "execution_count": null,
   "metadata": {},
   "outputs": [],
   "source": [
    "centroid.shape"
   ]
  },
  {
   "cell_type": "code",
   "execution_count": null,
   "metadata": {},
   "outputs": [],
   "source": [
    "tex_win_time = 1.0 #seconds\n",
    "hopsize = 512\n",
    "sr = 44100\n",
    "tex_win_size = int(tex_win_time * sr/hopsize)\n",
    "tex_win_size"
   ]
  },
  {
   "cell_type": "code",
   "execution_count": null,
   "metadata": {},
   "outputs": [],
   "source": [
    "win_start = arange(0, len(centroid), tex_win_size)\n",
    "centroid_tex_mean = []\n",
    "centroid_tex_var = []\n",
    "for start in win_start:\n",
    "    win = centroid[start: start + tex_win_size]\n",
    "    centroid_tex_mean.append(mean(win))\n",
    "    centroid_tex_var.append(var(win))\n",
    "    "
   ]
  },
  {
   "cell_type": "code",
   "execution_count": null,
   "metadata": {},
   "outputs": [],
   "source": [
    "plot(centroid_tex_mean)\n",
    "twinx()\n",
    "plot(centroid_tex_var, 'g')"
   ]
  },
  {
   "cell_type": "code",
   "execution_count": null,
   "metadata": {},
   "outputs": [],
   "source": [
    "filename = 'sources/Messiaen-Turangalila4.mp3'\n",
    "tex_win_time = 1.0 #seconds\n",
    "hopsize = 512\n",
    "sr = 44100\n",
    "tex_win_size = int(tex_win_time * sr/hopsize)\n",
    "tex_win_size\n",
    "\n",
    "\n",
    "audio = MonoLoader(filename = filename, sampleRate=sr)()\n",
    "\n",
    "# create the pool and the necessary algorithms\n",
    "pool = Pool()\n",
    "w = Windowing()\n",
    "spec = Spectrum()\n",
    "centroid = Centroid()\n",
    "\n",
    "# compute the centroid for all frames in our audio and add it to the pool\n",
    "for frame in FrameGenerator(audio, frameSize = 1024, hopSize = hopsize):\n",
    "    c = centroid(spec(w(frame))) * sr/2\n",
    "    pool.add('lowlevel.centroid', c)\n",
    "\n",
    "centroid = pool['lowlevel.centroid']\n",
    "win_start = arange(0, len(centroid), tex_win_size)\n",
    "centroid_tex_mean = []\n",
    "centroid_tex_var = []\n",
    "for start in win_start:\n",
    "    win = centroid[start: start + tex_win_size]\n",
    "    centroid_tex_mean.append(mean(win))\n",
    "    centroid_tex_var.append(var(win))\n",
    "    \n",
    "plot(centroid_tex_mean)\n",
    "twinx()\n",
    "plot(centroid_tex_var, 'g')"
   ]
  },
  {
   "cell_type": "markdown",
   "metadata": {},
   "source": [
    "## Beat histogram"
   ]
  },
  {
   "cell_type": "markdown",
   "metadata": {},
   "source": [
    "\"The first five peaks of the autocorrelation function are detected and their corresponding periodicities in beats per minute (bpm) are calculated and added in a “beat” histogram\"\n",
    "\n",
    "G. Tzanetakis and P. Cook. Musical genre classification of audio signals. IEEE Transactions on Speech and Audio Processing, 10(5):293–302, 2002"
   ]
  },
  {
   "cell_type": "code",
   "execution_count": null,
   "metadata": {},
   "outputs": [],
   "source": [
    "from IPython.core.display import Image  \n",
    "Image(filename='Beat_histogram.png') "
   ]
  },
  {
   "cell_type": "markdown",
   "metadata": {},
   "source": [
    "Essentially finding \"sub-tempos\" in the autocorrelation function to find other significant rhythmic subdivisions, and their relationships."
   ]
  },
  {
   "cell_type": "code",
   "execution_count": null,
   "metadata": {},
   "outputs": [],
   "source": [
    "Image(filename='beat_hist.png') "
   ]
  },
  {
   "cell_type": "markdown",
   "metadata": {},
   "source": [
    "# Gaussian Mixture Model"
   ]
  },
  {
   "cell_type": "code",
   "execution_count": null,
   "metadata": {},
   "outputs": [],
   "source": [
    "from sklearn import mixture\n",
    " \n",
    "n_samples = 300\n",
    " \n",
    "# generate random sample, two components\n",
    "random.seed(0)\n",
    "C = array([[0., -0.7], [3.5, .7]])\n",
    "X_train = r_[np.dot(np.random.randn(n_samples, 2), C),\n",
    "                np.random.randn(n_samples, 2) + np.array([20, 20])]\n",
    "scatter(X_train[:, 0], X_train[:, 1], .8)"
   ]
  },
  {
   "cell_type": "code",
   "execution_count": null,
   "metadata": {},
   "outputs": [],
   "source": [
    "clf = mixture.GMM(n_components=2, covariance_type='full')\n",
    "clf.fit(X_train)\n",
    " \n",
    "x = linspace(-20.0, 30.0)\n",
    "y = linspace(-20.0, 40.0)\n",
    "X, Y = meshgrid(x, y)\n",
    "XX = c_[X.ravel(), Y.ravel()]\n",
    "Z = np.log(-clf.eval(XX)[0])\n",
    "Z = Z.reshape(X.shape)\n",
    " \n",
    "CS = contour(X, Y, Z)\n",
    "CB = colorbar(CS, shrink=0.8, extend='both')\n",
    "scatter(X_train[:, 0], X_train[:, 1], .8)\n",
    " \n",
    "axis('tight')"
   ]
  },
  {
   "cell_type": "code",
   "execution_count": null,
   "metadata": {},
   "outputs": [],
   "source": [
    "clf.predict([(0, 10)])"
   ]
  },
  {
   "cell_type": "code",
   "execution_count": null,
   "metadata": {},
   "outputs": [],
   "source": [
    "clf.predict([(25, 20)])"
   ]
  },
  {
   "cell_type": "code",
   "execution_count": null,
   "metadata": {},
   "outputs": [],
   "source": [
    "clf.predict([(-20, 20)]), clf.predict([(-20, 30)])"
   ]
  },
  {
   "cell_type": "code",
   "execution_count": null,
   "metadata": {},
   "outputs": [],
   "source": [
    "points = [(-20, 20), (-20, 30), (25, 20), (0, 10)]\n",
    "\n",
    "points0 = []\n",
    "points1 = []\n",
    "\n",
    "for p in points:\n",
    "    cls = clf.predict([p])\n",
    "    if cls[0] == 1:\n",
    "        points1.append(p)\n",
    "    else:\n",
    "        points0.append(p)\n",
    "print points1\n",
    "print points0"
   ]
  },
  {
   "cell_type": "code",
   "execution_count": null,
   "metadata": {},
   "outputs": [],
   "source": [
    "clf = mixture.GMM(n_components=2, covariance_type='full')\n",
    "clf.fit(X_train)\n",
    " \n",
    "x = linspace(-20.0, 30.0)\n",
    "y = linspace(-20.0, 40.0)\n",
    "X, Y = meshgrid(x, y)\n",
    "XX = c_[X.ravel(), Y.ravel()]\n",
    "Z = np.log(-clf.eval(XX)[0])\n",
    "Z = Z.reshape(X.shape)\n",
    " \n",
    "CS = contour(X, Y, Z)\n",
    "\n",
    "scatter(*zip(points0))\n",
    "scatter(*zip(points1), color='g')\n",
    "\n",
    "axis('tight');"
   ]
  },
  {
   "cell_type": "code",
   "execution_count": null,
   "metadata": {},
   "outputs": [],
   "source": [
    "clf.predict_proba([(25, 20)])"
   ]
  },
  {
   "cell_type": "markdown",
   "metadata": {},
   "source": [
    "## Support vector machines"
   ]
  },
  {
   "cell_type": "markdown",
   "metadata": {},
   "source": [
    "http://en.wikipedia.org/wiki/Support_vector_machine"
   ]
  },
  {
   "cell_type": "code",
   "execution_count": null,
   "metadata": {},
   "outputs": [],
   "source": [
    "from sklearn import svm\n",
    "X = [[0, 0], [1, 1]]\n",
    "y = [0, 1]\n",
    "clf = svm.SVC()\n",
    "clf.fit(X, y)"
   ]
  },
  {
   "cell_type": "code",
   "execution_count": null,
   "metadata": {},
   "outputs": [],
   "source": [
    "clf.predict([[2., 2.]])"
   ]
  },
  {
   "cell_type": "code",
   "execution_count": null,
   "metadata": {},
   "outputs": [],
   "source": [
    "clf.predict([[0., 0.1]])"
   ]
  },
  {
   "cell_type": "markdown",
   "metadata": {},
   "source": [
    "By Andrés Cabrera mantaraya36@gmail.com\n",
    "\n",
    "For course MAT 240E at UCSB\n",
    "\n",
    "This ipython notebook is licensed under the CC-BY-NC-SA license: http://creativecommons.org/licenses/by-nc-sa/4.0/\n",
    "\n",
    "![http://i.creativecommons.org/l/by-nc-sa/3.0/88x31.png](http://i.creativecommons.org/l/by-nc-sa/3.0/88x31.png)"
   ]
  }
 ],
 "metadata": {
  "kernelspec": {
   "display_name": "Python 2",
   "language": "python",
   "name": "python2"
  },
  "language_info": {
   "codemirror_mode": {
    "name": "ipython",
    "version": 2
   },
   "file_extension": ".py",
   "mimetype": "text/x-python",
   "name": "python",
   "nbconvert_exporter": "python",
   "pygments_lexer": "ipython2",
   "version": "2.7.12"
  }
 },
 "nbformat": 4,
 "nbformat_minor": 1
}
